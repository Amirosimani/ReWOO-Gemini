{
  "nbformat": 4,
  "nbformat_minor": 0,
  "metadata": {
    "colab": {
      "provenance": [],
      "collapsed_sections": [
        "dpldCVg60L9c"
      ],
      "authorship_tag": "ABX9TyPTSsDbbjiysyBviPdPi2R2",
      "include_colab_link": true
    },
    "kernelspec": {
      "name": "python3",
      "display_name": "Python 3"
    },
    "language_info": {
      "name": "python"
    }
  },
  "cells": [
    {
      "cell_type": "markdown",
      "metadata": {
        "id": "view-in-github",
        "colab_type": "text"
      },
      "source": [
        "<a href=\"https://colab.research.google.com/github/Amirosimani/ReWOO-Gemini/blob/main/ReWOO_gemini.ipynb\" target=\"_parent\"><img src=\"https://colab.research.google.com/assets/colab-badge.svg\" alt=\"Open In Colab\"/></a>"
      ]
    },
    {
      "cell_type": "code",
      "source": [
        "# !pip install --quiet datasets\n",
        "# !pip install --quiet langchain langchain_community\n",
        "# !pip install --quiet langchain_google_genai langchain_google_community\n",
        "# !pip install --quiet wikipedia"
      ],
      "metadata": {
        "id": "_In1NIeyqmD2"
      },
      "execution_count": null,
      "outputs": []
    },
    {
      "cell_type": "code",
      "source": [
        "from google.colab import userdata"
      ],
      "metadata": {
        "id": "9a055BpR5zkn"
      },
      "execution_count": 1,
      "outputs": []
    },
    {
      "cell_type": "code",
      "source": [
        "MODEL = \"gemini-1.5-flash\"\n",
        "\n",
        "GENERATION_CONFIG = {\n",
        "    \"temperature\": 0.8,\n",
        "    \"top_p\": 0.95,\n",
        "    \"top_k\": 20,\n",
        "    \"candidate_count\": 1,\n",
        "    \"max_output_tokens\": 8192,\n",
        "    \"stop_sequences\": [\"STOP!\"],\n",
        "}\n",
        "\n",
        "GEMINI_API_KEY = userdata.get('GEMINI')\n",
        "GOOGLE_API_KEY = userdata.get('GOOGLE-API')\n",
        "CSE_ID = userdata.get(\"CSE-ID\")"
      ],
      "metadata": {
        "id": "MRqm03Sz5_fF"
      },
      "execution_count": 27,
      "outputs": []
    },
    {
      "cell_type": "markdown",
      "source": [
        "## Data\n",
        "\n",
        "[**StrategyQA**](https://paperswithcode.com/dataset/strategyqa) is a question answering benchmark where the required reasoning steps are implicit in the question, and should be inferred using a strategy. It includes 2,780 examples, each consisting of a strategy question, its decomposition, and evidence paragraphs. Questions in StrategyQA are short, topic-diverse, and cover a wide range of strategies.\n",
        "\n"
      ],
      "metadata": {
        "id": "pQxf0kNGBtVN"
      }
    },
    {
      "cell_type": "code",
      "execution_count": 8,
      "metadata": {
        "colab": {
          "base_uri": "https://localhost:8080/"
        },
        "id": "pfevMoHIBgbP",
        "outputId": "71366bf0-efc6-4841-a2d0-c07a98c27fdb"
      },
      "outputs": [
        {
          "output_type": "stream",
          "name": "stderr",
          "text": [
            "/usr/local/lib/python3.11/dist-packages/huggingface_hub/utils/_auth.py:94: UserWarning: \n",
            "The secret `HF_TOKEN` does not exist in your Colab secrets.\n",
            "To authenticate with the Hugging Face Hub, create a token in your settings tab (https://huggingface.co/settings/tokens), set it as secret in your Google Colab and restart your session.\n",
            "You will be able to reuse this secret in all of your notebooks.\n",
            "Please note that authentication is recommended but still optional to access public models or datasets.\n",
            "  warnings.warn(\n"
          ]
        }
      ],
      "source": [
        "from datasets import load_dataset\n",
        "\n",
        "ds = load_dataset(\"ChilleD/StrategyQA\")"
      ]
    },
    {
      "cell_type": "code",
      "source": [
        "# Access the training split\n",
        "train_ds = ds[\"train\"]"
      ],
      "metadata": {
        "id": "3nXOp5QCCMxp"
      },
      "execution_count": 9,
      "outputs": []
    },
    {
      "cell_type": "code",
      "source": [
        "train_ds[0]"
      ],
      "metadata": {
        "colab": {
          "base_uri": "https://localhost:8080/"
        },
        "id": "6kPIwj4Ew-qQ",
        "outputId": "1bd2f20c-ab98-43c7-ae46-fab2f1d244c6"
      },
      "execution_count": 10,
      "outputs": [
        {
          "output_type": "execute_result",
          "data": {
            "text/plain": [
              "{'qid': '4fd64bb6ce5b78ab20b6',\n",
              " 'term': 'Mixed martial arts',\n",
              " 'description': 'full contact combat sport',\n",
              " 'question': 'Is Mixed martial arts totally original from Roman Colosseum games?',\n",
              " 'answer': False,\n",
              " 'facts': 'Mixed Martial arts in the UFC takes place in an enclosed structure called The Octagon. The Roman Colosseum games were fought in enclosed arenas where combatants would fight until the last man was standing. Mixed martial arts contests are stopped when one of the combatants is incapacitated. The Roman Colosseum was performed in front of crowds that numbered in the tens of thousands. Over 56,000 people attended UFC 193.'}"
            ]
          },
          "metadata": {},
          "execution_count": 10
        }
      ]
    },
    {
      "cell_type": "markdown",
      "source": [
        "# LLM"
      ],
      "metadata": {
        "id": "2ceIKSwrsu2W"
      }
    },
    {
      "cell_type": "markdown",
      "source": [
        "## Baseline"
      ],
      "metadata": {
        "id": "dpldCVg60L9c"
      }
    },
    {
      "cell_type": "code",
      "source": [
        "from google import genai\n",
        "from google.genai.types import GenerateContentConfig"
      ],
      "metadata": {
        "id": "Cf8Xn9ia0Lf-"
      },
      "execution_count": 11,
      "outputs": []
    },
    {
      "cell_type": "code",
      "source": [
        "client = genai.Client(api_key=GEMINI_API_KEY)"
      ],
      "metadata": {
        "id": "daCJHjFf5rAT"
      },
      "execution_count": 12,
      "outputs": []
    },
    {
      "cell_type": "code",
      "source": [
        "def generate(prompt, model=MODEL, config=GENERATION_CONFIG):\n",
        "    response = client.models.generate_content(\n",
        "        model=model,\n",
        "        contents=prompt,\n",
        "        config=GenerateContentConfig(**config)\n",
        "    )\n",
        "    return response"
      ],
      "metadata": {
        "id": "aJKvz8tz0tql"
      },
      "execution_count": 20,
      "outputs": []
    },
    {
      "cell_type": "code",
      "source": [
        "generate(prompt=train_ds[0]['question'])"
      ],
      "metadata": {
        "colab": {
          "base_uri": "https://localhost:8080/"
        },
        "id": "RGznz1Wd0f3k",
        "outputId": "7080997c-4d07-4c71-8c92-9868e60cc665"
      },
      "execution_count": 21,
      "outputs": [
        {
          "output_type": "execute_result",
          "data": {
            "text/plain": [
              "GenerateContentResponse(candidates=[Candidate(content=Content(parts=[Part(video_metadata=None, thought=None, code_execution_result=None, executable_code=None, file_data=None, function_call=None, function_response=None, inline_data=None, text=\"No, mixed martial arts (MMA) is not totally original from Roman Colosseum games. While the Colosseum featured various forms of combat that included elements found in modern MMA, such as striking, grappling, and submissions,  there are crucial differences:\\n\\n* **Rules and Regulations:**  Colosseum combat was largely unregulated and brutal.  There were no weight classes, rounds, or referees to enforce rules.  The goal was often death or complete incapacitation, not a points-based victory as in modern MMA.\\n\\n* **Training and Specialization:** Modern MMA fighters undergo years of rigorous training in various martial arts disciplines. Colosseum fighters, while likely having some training, lacked the specialized and systematic training methods available today.  Their skills were often more generalized.\\n\\n* **Evolution and Influences:** Modern MMA is a culmination of various martial arts traditions that developed *after* the Roman era, including boxing, wrestling, jiu-jitsu, Muay Thai, karate, and others.  The Colosseum's influence is at best a very distant and general ancestor, not a direct lineage.\\n\\nIn short, the Colosseum games provide a very loose historical antecedent to the concept of unarmed combat, but modern MMA is a distinctly modern sport with its own unique rules, training methods, and evolutionary path.  It's more accurate to say that MMA shares some *conceptual* similarities with ancient Roman combat sports than to say it's a direct descendant.\\n\")], role='model'), citation_metadata=None, finish_message=None, token_count=None, avg_logprobs=-0.3426714786866895, finish_reason='STOP', grounding_metadata=None, index=None, logprobs_result=None, safety_ratings=None)], model_version='gemini-1.5-flash', prompt_feedback=None, usage_metadata=GenerateContentResponseUsageMetadata(cached_content_token_count=None, candidates_token_count=294, prompt_token_count=13, total_token_count=307), automatic_function_calling_history=[], parsed=None)"
            ]
          },
          "metadata": {},
          "execution_count": 21
        }
      ]
    },
    {
      "cell_type": "markdown",
      "source": [
        "## Native tool call"
      ],
      "metadata": {
        "id": "bR8zNLEA0g5_"
      }
    },
    {
      "cell_type": "markdown",
      "source": [
        "## ReAct Agent"
      ],
      "metadata": {
        "id": "JkMOsPAp0KMQ"
      }
    },
    {
      "cell_type": "code",
      "source": [
        "import os\n",
        "from typing import List\n",
        "\n",
        "import tiktoken\n",
        "from langchain import hub\n",
        "from langchain.agents import AgentExecutor, create_react_agent\n",
        "from langchain_community.utilities import GoogleSearchAPIWrapper, WikipediaAPIWrapper\n",
        "from langchain.callbacks.base import BaseCallbackHandler\n",
        "from langchain.schema import AgentAction, AgentFinish, LLMResult\n",
        "from langchain_google_genai import ChatGoogleGenerativeAI, HarmBlockThreshold, HarmCategory\n",
        "from langchain.tools import Tool"
      ],
      "metadata": {
        "id": "mjrBjpB2qunI"
      },
      "execution_count": 26,
      "outputs": []
    },
    {
      "cell_type": "code",
      "source": [
        "# --- LLM Setup ---\n",
        "llm = ChatGoogleGenerativeAI(\n",
        "    model=MODEL,\n",
        "    google_api_key=GEMINI_API_KEY,\n",
        "    convert_system_message_to_human=True,\n",
        "    generation_config=GENERATION_CONFIG,\n",
        ")"
      ],
      "metadata": {
        "id": "ljuTvs89-Sxw"
      },
      "execution_count": 29,
      "outputs": []
    },
    {
      "cell_type": "code",
      "source": [
        "# --- Tools Setup ---\n",
        "search = GoogleSearchAPIWrapper(google_api_key=GOOGLE_API_KEY, google_cse_id=CSE_ID)\n",
        "wikipedia = WikipediaAPIWrapper(top_k_results=3, doc_content_chars_max=1000)\n",
        "\n",
        "tools = [\n",
        "    Tool(\n",
        "        name=\"Google Search\",\n",
        "        func=search.run,\n",
        "        description=\"Useful for finding information on current events, comparisons, or diverse perspectives.\",\n",
        "    ),\n",
        "    Tool(\n",
        "        name=\"Wikipedia\",\n",
        "        func=wikipedia.run,\n",
        "        description=\"Useful for getting definitions and summaries of topics from Wikipedia.\",\n",
        "    ),\n",
        "]\n",
        "\n",
        "# --- Prompt Setup ---\n",
        "prompt = hub.pull(\"hwchase17/react\")\n",
        "\n",
        "# --- Agent Setup ---\n",
        "agent = create_react_agent(llm, tools, prompt)"
      ],
      "metadata": {
        "id": "SwlGmGcf-IW0"
      },
      "execution_count": 30,
      "outputs": []
    },
    {
      "cell_type": "code",
      "source": [
        "# --- Token Counting Callback ---\n",
        "class TokenCountingCallbackHandler(BaseCallbackHandler):\n",
        "    def __init__(self, model_name: str):\n",
        "        self.model_name = model_name\n",
        "        self.total_tokens = 0\n",
        "        self.prompt_tokens = 0\n",
        "        self.completion_tokens = 0\n",
        "        self.encoding = tiktoken.get_encoding(\"cl100k_base\")\n",
        "\n",
        "    def on_llm_start(self, serialized: dict, prompts: List[str], **kwargs) -> None:\n",
        "        \"\"\"Collect prompt tokens when LLM starts.\"\"\"\n",
        "        for prompt in prompts:\n",
        "            self.prompt_tokens += len(self.encoding.encode(prompt))\n",
        "\n",
        "    def on_llm_end(self, response: LLMResult, **kwargs) -> None:\n",
        "        \"\"\"Collect completion tokens when LLM finishes generating.\"\"\"\n",
        "        if response.generations:\n",
        "            for generation_list in response.generations:\n",
        "                for generation in generation_list:\n",
        "                    if generation.text:\n",
        "                        self.completion_tokens += len(self.encoding.encode(generation.text))\n",
        "\n",
        "    def on_agent_action(self, action: AgentAction, **kwargs) -> None:\n",
        "        \"\"\"Increment token count on agent action.\"\"\"\n",
        "        if action.log:\n",
        "            self.total_tokens += len(self.encoding.encode(action.log))\n",
        "\n",
        "    def on_agent_finish(self, finish: AgentFinish, **kwargs) -> None:\n",
        "        \"\"\"Increment token count on agent finish.\"\"\"\n",
        "        if finish.log:\n",
        "            self.total_tokens += len(self.encoding.encode(finish.log))\n",
        "\n",
        "    def on_chain_end(self, outputs, **kwargs) -> None:\n",
        "        \"\"\"Print the total tokens used when the chain finishes.\"\"\"\n",
        "        self.total_tokens += self.completion_tokens + self.prompt_tokens\n",
        "        print(f\"Prompt tokens: {self.prompt_tokens}\")\n",
        "        print(f\"Completion tokens: {self.completion_tokens}\")\n",
        "        print(f\"Total tokens used in this chain: {self.total_tokens}\")\n",
        "\n",
        "    def reset(self):\n",
        "        \"\"\"Reset the counters for the next chain run.\"\"\"\n",
        "        self.total_tokens = 0\n",
        "        self.prompt_tokens = 0\n",
        "        self.completion_tokens = 0"
      ],
      "metadata": {
        "id": "6HPwgWdxAhr7"
      },
      "execution_count": 45,
      "outputs": []
    },
    {
      "cell_type": "code",
      "source": [
        "# --- Agent Executor Setup ---\n",
        "token_callback = TokenCountingCallbackHandler(MODEL)\n",
        "agent_executor = AgentExecutor(\n",
        "    agent=agent,\n",
        "    tools=tools,\n",
        "    verbose=True,\n",
        "    handle_parsing_errors=True,\n",
        "    max_iterations=10,\n",
        "    callbacks=[token_callback],\n",
        ")"
      ],
      "metadata": {
        "id": "-LpdmamIAikS"
      },
      "execution_count": 46,
      "outputs": []
    },
    {
      "cell_type": "code",
      "source": [
        "# --- Example Usage ---\n",
        "msg = agent_executor.invoke({\"input\": train_ds[0][\"question\"]})\n",
        "print(msg)"
      ],
      "metadata": {
        "colab": {
          "base_uri": "https://localhost:8080/"
        },
        "id": "Ck0oyZFhApCV",
        "outputId": "e3ef8011-a472-4140-c990-37fba622d335"
      },
      "execution_count": 47,
      "outputs": [
        {
          "output_type": "stream",
          "name": "stdout",
          "text": [
            "\n",
            "\n",
            "\u001b[1m> Entering new AgentExecutor chain...\u001b[0m\n"
          ]
        },
        {
          "output_type": "stream",
          "name": "stderr",
          "text": [
            "/usr/local/lib/python3.11/dist-packages/langchain_google_genai/chat_models.py:353: UserWarning: Convert_system_message_to_human will be deprecated!\n",
            "  warnings.warn(\"Convert_system_message_to_human will be deprecated!\")\n"
          ]
        },
        {
          "output_type": "stream",
          "name": "stdout",
          "text": [
            "\u001b[32;1m\u001b[1;3mThought: I need to research the history of mixed martial arts and compare it to Roman Colosseum games to determine if there's a direct lineage.  Wikipedia should be a good starting point for both.\n",
            "\n",
            "Action: Wikipedia\n",
            "Action Input: Mixed martial arts\u001b[0m\u001b[33;1m\u001b[1;3mPage: Mixed martial arts\n",
            "Summary: Mixed martial arts (MMA) is a full-contact fighting sport based on striking and grappling, incorporating techniques from various combat sports from around the world.\n",
            "In the early 20th century, various inter-stylistic contests took place throughout Japan and the countries of East Asia. At the same time, in Brazil there was a phenomenon called vale tudo, which became known for unrestricted fights between various styles such as judo, Brazilian jiu-jitsu, catch wrestling, luta livre, Muay Thai and capoeira. An early high-profile mixed bout was Kimura vs. Gracie in 1951. In mid-20th century Hong Kong, rooftop street fighting contests between different martial arts styles gave rise to Bruce Lee's hybrid martial arts style Jeet Kune Do. Another precursor to modern MMA was the 1976 Ali vs. Inoki exhibition bout, fought between boxer Muhammad Ali and wrestler Antonio Inoki in Japan, where it later inspired the foundation of Shooto in 1985, Pancrase in 1993, and\u001b[0m"
          ]
        },
        {
          "output_type": "stream",
          "name": "stderr",
          "text": [
            "/usr/local/lib/python3.11/dist-packages/langchain_google_genai/chat_models.py:353: UserWarning: Convert_system_message_to_human will be deprecated!\n",
            "  warnings.warn(\"Convert_system_message_to_human will be deprecated!\")\n"
          ]
        },
        {
          "output_type": "stream",
          "name": "stdout",
          "text": [
            "\u001b[32;1m\u001b[1;3mQuestion: Is Mixed martial arts totally original from Roman Colosseum games?\n",
            "Thought: I need to research the history of mixed martial arts and compare it to Roman Colosseum games to determine if there's a direct lineage.  Wikipedia should be a good starting point for both.\n",
            "\n",
            "Action: Wikipedia\n",
            "Action Input: Mixed martial arts\u001b[0m\u001b[33;1m\u001b[1;3mPage: Mixed martial arts\n",
            "Summary: Mixed martial arts (MMA) is a full-contact fighting sport based on striking and grappling, incorporating techniques from various combat sports from around the world.\n",
            "In the early 20th century, various inter-stylistic contests took place throughout Japan and the countries of East Asia. At the same time, in Brazil there was a phenomenon called vale tudo, which became known for unrestricted fights between various styles such as judo, Brazilian jiu-jitsu, catch wrestling, luta livre, Muay Thai and capoeira. An early high-profile mixed bout was Kimura vs. Gracie in 1951. In mid-20th century Hong Kong, rooftop street fighting contests between different martial arts styles gave rise to Bruce Lee's hybrid martial arts style Jeet Kune Do. Another precursor to modern MMA was the 1976 Ali vs. Inoki exhibition bout, fought between boxer Muhammad Ali and wrestler Antonio Inoki in Japan, where it later inspired the foundation of Shooto in 1985, Pancrase in 1993, and\u001b[0m"
          ]
        },
        {
          "output_type": "stream",
          "name": "stderr",
          "text": [
            "/usr/local/lib/python3.11/dist-packages/langchain_google_genai/chat_models.py:353: UserWarning: Convert_system_message_to_human will be deprecated!\n",
            "  warnings.warn(\"Convert_system_message_to_human will be deprecated!\")\n"
          ]
        },
        {
          "output_type": "stream",
          "name": "stdout",
          "text": [
            "\u001b[32;1m\u001b[1;3mQuestion: Is Mixed martial arts totally original from Roman Colosseum games?\n",
            "Thought: I need to research the history of mixed martial arts and compare it to Roman Colosseum games to determine if there's a direct lineage. Wikipedia is a good place to start for both.\n",
            "\n",
            "Action: Wikipedia\n",
            "Action Input: Mixed martial arts\u001b[0m\u001b[33;1m\u001b[1;3mPage: Mixed martial arts\n",
            "Summary: Mixed martial arts (MMA) is a full-contact fighting sport based on striking and grappling, incorporating techniques from various combat sports from around the world.\n",
            "In the early 20th century, various inter-stylistic contests took place throughout Japan and the countries of East Asia. At the same time, in Brazil there was a phenomenon called vale tudo, which became known for unrestricted fights between various styles such as judo, Brazilian jiu-jitsu, catch wrestling, luta livre, Muay Thai and capoeira. An early high-profile mixed bout was Kimura vs. Gracie in 1951. In mid-20th century Hong Kong, rooftop street fighting contests between different martial arts styles gave rise to Bruce Lee's hybrid martial arts style Jeet Kune Do. Another precursor to modern MMA was the 1976 Ali vs. Inoki exhibition bout, fought between boxer Muhammad Ali and wrestler Antonio Inoki in Japan, where it later inspired the foundation of Shooto in 1985, Pancrase in 1993, and\u001b[0m"
          ]
        },
        {
          "output_type": "stream",
          "name": "stderr",
          "text": [
            "/usr/local/lib/python3.11/dist-packages/langchain_google_genai/chat_models.py:353: UserWarning: Convert_system_message_to_human will be deprecated!\n",
            "  warnings.warn(\"Convert_system_message_to_human will be deprecated!\")\n"
          ]
        },
        {
          "output_type": "stream",
          "name": "stdout",
          "text": [
            "\u001b[32;1m\u001b[1;3mThought: I need to research the history of Roman Colosseum games and compare them to the history of mixed martial arts. Wikipedia should provide sufficient information.\n",
            "\n",
            "Action: Wikipedia\n",
            "Action Input: Roman Colosseum\u001b[0m\u001b[33;1m\u001b[1;3mPage: Colosseum\n",
            "Summary: The Colosseum ( KOL-ə-SEE-əm; Italian: Colosseo [kolosˈsɛːo], ultimately from Ancient Greek word \"kolossos\" meaning a large statue or giant) is an elliptical amphitheatre in the centre of the city of Rome, Italy, just east of the Roman Forum. It is the largest ancient amphitheatre ever built, and is still the largest standing amphitheatre in the world, despite its age. Construction began under the Emperor Vespasian (r. 69–79 AD) in 72 and was completed in AD 80 under his successor and heir, Titus (r. 79–81). Further modifications were made during the reign of Domitian (r. 81–96). The three emperors who were patrons of the work are known as the Flavian dynasty, and the amphitheatre was named the Flavian Amphitheatre (Latin: Amphitheatrum Flavium; Italian: Anfiteatro Flavio [aɱfiteˈaːtro ˈflaːvjo]) by later classicists and archaeologists for its association with their family name (Flavius).\n",
            "The Colosseum is built of travertine limestone, tuff (volcanic rock), and\u001b[0m"
          ]
        },
        {
          "output_type": "stream",
          "name": "stderr",
          "text": [
            "/usr/local/lib/python3.11/dist-packages/langchain_google_genai/chat_models.py:353: UserWarning: Convert_system_message_to_human will be deprecated!\n",
            "  warnings.warn(\"Convert_system_message_to_human will be deprecated!\")\n"
          ]
        },
        {
          "output_type": "stream",
          "name": "stdout",
          "text": [
            "\u001b[32;1m\u001b[1;3mThought: The Wikipedia article on Mixed Martial Arts shows its evolution from various martial arts styles throughout the 20th century, primarily in Asia and Brazil.  The Colosseum article describes gladiatorial combat in ancient Rome. While both involve fighting, there's no direct lineage.  The styles and rules are vastly different.\n",
            "\n",
            "Thought: I now know the final answer.\n",
            "Final Answer: No, mixed martial arts is not totally original from Roman Colosseum games.  While both involve combat, MMA evolved from various martial arts traditions in the 20th century, not directly from gladiatorial combat in ancient Rome.\u001b[0m\n",
            "Prompt tokens: 0\n",
            "Completion tokens: 0\n",
            "Total tokens used in this chain: 357\n",
            "\n",
            "\u001b[1m> Finished chain.\u001b[0m\n",
            "{'input': 'Is Mixed martial arts totally original from Roman Colosseum games?', 'output': 'No, mixed martial arts is not totally original from Roman Colosseum games.  While both involve combat, MMA evolved from various martial arts traditions in the 20th century, not directly from gladiatorial combat in ancient Rome.'}\n"
          ]
        }
      ]
    },
    {
      "cell_type": "markdown",
      "source": [
        "# TODO:\n",
        "\n",
        "[x] add baseline\n",
        "\n",
        "[] add calc (optional)\n",
        "\n",
        "[x] callback/count tokens for react\n",
        "\n",
        "[] ReWOO"
      ],
      "metadata": {
        "id": "6AJANtdgltx6"
      }
    },
    {
      "cell_type": "code",
      "source": [],
      "metadata": {
        "id": "SK_KVwBw9EJA"
      },
      "execution_count": null,
      "outputs": []
    }
  ]
}