{
  "nbformat": 4,
  "nbformat_minor": 0,
  "metadata": {
    "colab": {
      "provenance": [],
      "authorship_tag": "ABX9TyO4OjHBseL/WAUbOvIAUiz6",
      "include_colab_link": true
    },
    "kernelspec": {
      "name": "python3",
      "display_name": "Python 3"
    },
    "language_info": {
      "name": "python"
    }
  },
  "cells": [
    {
      "cell_type": "markdown",
      "metadata": {
        "id": "view-in-github",
        "colab_type": "text"
      },
      "source": [
        "<a href=\"https://colab.research.google.com/github/Amirosimani/ReWOO-Gemini/blob/main/ReWOO_gemini.ipynb\" target=\"_parent\"><img src=\"https://colab.research.google.com/assets/colab-badge.svg\" alt=\"Open In Colab\"/></a>"
      ]
    },
    {
      "cell_type": "code",
      "source": [
        "# Copyright 2024 Google LLC\n",
        "#\n",
        "# Licensed under the Apache License, Version 2.0 (the \"License\");\n",
        "# you may not use this file except in compliance with the License.\n",
        "# You may obtain a copy of the License at\n",
        "#\n",
        "#     https://www.apache.org/licenses/LICENSE-2.0\n",
        "#\n",
        "# Unless required by applicable law or agreed to in writing, software\n",
        "# distributed under the License is distributed on an \"AS IS\" BASIS,\n",
        "# WITHOUT WARRANTIES OR CONDITIONS OF ANY KIND, either express or implied.\n",
        "# See the License for the specific language governing permissions and\n",
        "# limitations under the License.\n"
      ],
      "metadata": {
        "id": "YJPLxIdz2WXt"
      },
      "execution_count": 1,
      "outputs": []
    },
    {
      "cell_type": "markdown",
      "source": [
        "|||\n",
        "|----------|-------------|\n",
        "| Author(s)   | amirimani@ |\n",
        "| Last updated | 29/01/2025 |\n",
        "<br><br>\n"
      ],
      "metadata": {
        "id": "boZaMQp4J2kU"
      }
    },
    {
      "cell_type": "code",
      "source": [
        "# !pip install --quiet datasets\n",
        "# !pip install --quiet langchain langchain_community\n",
        "# !pip install --quiet langchain_google_genai langchain_google_community\n",
        "# !pip install --quiet wikipedia\n",
        "# !pip install --quiet tiktoken"
      ],
      "metadata": {
        "id": "_In1NIeyqmD2"
      },
      "execution_count": 2,
      "outputs": []
    },
    {
      "cell_type": "code",
      "source": [
        "import re\n",
        "import time\n",
        "import tiktoken\n",
        "from tqdm import tqdm\n",
        "from datasets import load_dataset\n",
        "from typing import List, Dict, Union, Callable, Any\n",
        "\n",
        "from langchain import hub\n",
        "from langchain import LLMChain, PromptTemplate\n",
        "from langchain.agents import AgentExecutor, create_react_agent\n",
        "from langchain_community.utilities import GoogleSearchAPIWrapper\n",
        "from langchain.callbacks.base import BaseCallbackHandler\n",
        "from langchain.schema import AgentAction, AgentFinish, LLMResult, BaseMessage\n",
        "from langchain_google_genai import ChatGoogleGenerativeAI\n",
        "from langchain.tools import Tool\n",
        "\n",
        "from google.colab import userdata\n",
        "from google import genai\n",
        "from google.genai.types import GenerateContentConfig"
      ],
      "metadata": {
        "id": "K9cZba0Jv34Y"
      },
      "execution_count": 3,
      "outputs": []
    },
    {
      "cell_type": "code",
      "source": [
        "# --- Configuration ---\n",
        "MODEL = \"gemini-1.5-flash\"\n",
        "MAX_ITERATIONS = 5\n",
        "MAX_EXECUTION_TIME = 45\n",
        "\n",
        "GENERATION_CONFIG = {\n",
        "    \"temperature\": 0.8,\n",
        "    \"top_p\": 0.95,\n",
        "    \"top_k\": 20,\n",
        "    \"candidate_count\": 1,\n",
        "    \"max_output_tokens\": 8192,\n",
        "}\n",
        "\n",
        "GEMINI_API_KEY = userdata.get('GEMINI')\n",
        "GOOGLE_API_KEY = userdata.get('GOOGLE-API')\n",
        "CSE_ID = userdata.get(\"CSE-ID\")"
      ],
      "metadata": {
        "id": "MRqm03Sz5_fF"
      },
      "execution_count": 4,
      "outputs": []
    },
    {
      "cell_type": "markdown",
      "source": [
        "## Data\n",
        "\n",
        "[**StrategyQA**](https://paperswithcode.com/dataset/strategyqa) is a question answering benchmark where the required reasoning steps are implicit in the question, and should be inferred using a strategy. It includes 2,780 examples, each consisting of a strategy question, its decomposition, and evidence paragraphs. Questions in StrategyQA are short, topic-diverse, and cover a wide range of strategies.\n",
        "\n"
      ],
      "metadata": {
        "id": "pQxf0kNGBtVN"
      }
    },
    {
      "cell_type": "code",
      "execution_count": 5,
      "metadata": {
        "id": "pfevMoHIBgbP"
      },
      "outputs": [],
      "source": [
        "ds = load_dataset(\"ChilleD/StrategyQA\")"
      ]
    },
    {
      "cell_type": "code",
      "source": [
        "# Access the training split\n",
        "train_ds = ds[\"train\"]"
      ],
      "metadata": {
        "id": "3nXOp5QCCMxp"
      },
      "execution_count": 6,
      "outputs": []
    },
    {
      "cell_type": "code",
      "source": [
        "train_ds[0]"
      ],
      "metadata": {
        "id": "6kPIwj4Ew-qQ",
        "colab": {
          "base_uri": "https://localhost:8080/"
        },
        "outputId": "48ce956b-99db-4120-a6bc-e1e70afd966e"
      },
      "execution_count": 7,
      "outputs": [
        {
          "output_type": "execute_result",
          "data": {
            "text/plain": [
              "{'qid': '4fd64bb6ce5b78ab20b6',\n",
              " 'term': 'Mixed martial arts',\n",
              " 'description': 'full contact combat sport',\n",
              " 'question': 'Is Mixed martial arts totally original from Roman Colosseum games?',\n",
              " 'answer': False,\n",
              " 'facts': 'Mixed Martial arts in the UFC takes place in an enclosed structure called The Octagon. The Roman Colosseum games were fought in enclosed arenas where combatants would fight until the last man was standing. Mixed martial arts contests are stopped when one of the combatants is incapacitated. The Roman Colosseum was performed in front of crowds that numbered in the tens of thousands. Over 56,000 people attended UFC 193.'}"
            ]
          },
          "metadata": {},
          "execution_count": 7
        }
      ]
    },
    {
      "cell_type": "markdown",
      "source": [
        "# LLM"
      ],
      "metadata": {
        "id": "2ceIKSwrsu2W"
      }
    },
    {
      "cell_type": "markdown",
      "source": [
        "## Baseline\n",
        "\n",
        "Use Gemnini with no tools and not fancy prompts!"
      ],
      "metadata": {
        "id": "dpldCVg60L9c"
      }
    },
    {
      "cell_type": "code",
      "source": [
        "client = genai.Client(api_key=GEMINI_API_KEY)"
      ],
      "metadata": {
        "id": "daCJHjFf5rAT"
      },
      "execution_count": 8,
      "outputs": []
    },
    {
      "cell_type": "code",
      "source": [
        "def generate(prompt, model=MODEL, config=GENERATION_CONFIG):\n",
        "\n",
        "    client = genai.Client(api_key=GEMINI_API_KEY)\n",
        "    config[\"system_instruction\"] = \"Once you are done finding the answer, only return Yes or No\"\n",
        "\n",
        "    start_time = time.time()\n",
        "\n",
        "    response = client.models.generate_content(\n",
        "        model=model,\n",
        "        contents=prompt,\n",
        "        config=GenerateContentConfig(**config)\n",
        "    )\n",
        "\n",
        "    end_time = time.time()\n",
        "    wall_time = end_time - start_time\n",
        "\n",
        "    result = {\n",
        "        'input': prompt,\n",
        "        'output': response.text.strip(),\n",
        "        'total_token': response.usage_metadata.total_token_count,\n",
        "        'wall_time': wall_time\n",
        "    }\n",
        "\n",
        "    return result"
      ],
      "metadata": {
        "id": "aJKvz8tz0tql"
      },
      "execution_count": 9,
      "outputs": []
    },
    {
      "cell_type": "code",
      "source": [
        "# generate(train_ds[1]['question'])"
      ],
      "metadata": {
        "id": "iwrw4FmJnH4J"
      },
      "execution_count": 10,
      "outputs": []
    },
    {
      "cell_type": "markdown",
      "source": [
        "## ReAct Agent"
      ],
      "metadata": {
        "id": "JkMOsPAp0KMQ"
      }
    },
    {
      "cell_type": "code",
      "source": [
        "class ReActAgentExecutor:\n",
        "    \"\"\"\n",
        "    A class to run the ReAct agent with specified configurations and tools.\n",
        "    \"\"\"\n",
        "\n",
        "    def __init__(\n",
        "        self,\n",
        "        model: str = MODEL,\n",
        "        generation_config: Dict = GENERATION_CONFIG,\n",
        "        max_iterations: int = MAX_ITERATIONS,\n",
        "        max_execution_time: int = MAX_EXECUTION_TIME,\n",
        "        google_api_key: str = GOOGLE_API_KEY,\n",
        "        cse_id: str = CSE_ID,\n",
        "    ):\n",
        "        self.model = model\n",
        "        self.generation_config = generation_config\n",
        "        # self.safety_settings = safety_settings\n",
        "        self.max_iterations = max_iterations\n",
        "        self.max_execution_time = max_execution_time\n",
        "        self.google_api_key = google_api_key\n",
        "        self.cse_id = cse_id\n",
        "        self.llm = None\n",
        "        self.tools = None\n",
        "        self.agent = None\n",
        "        self.agent_executor = None\n",
        "        self.token_callback = None\n",
        "\n",
        "        self._setup_llm()\n",
        "        self._setup_tools()\n",
        "        self._setup_agent()\n",
        "\n",
        "    def _setup_llm(self):\n",
        "        \"\"\"Initializes the language model.\"\"\"\n",
        "        if not GEMINI_API_KEY or GEMINI_API_KEY == \"your_gemini_api_key\":\n",
        "            raise ValueError(\"GEMINI_API_KEY must be set to a valid API key.\")\n",
        "        self.llm = ChatGoogleGenerativeAI(\n",
        "            model=self.model,\n",
        "            google_api_key=GEMINI_API_KEY,\n",
        "            generation_config=self.generation_config,\n",
        "        )\n",
        "\n",
        "    def _setup_tools(self):\n",
        "        \"\"\"Sets up the tools for the agent.\"\"\"\n",
        "        search = GoogleSearchAPIWrapper(\n",
        "            google_api_key=self.google_api_key, google_cse_id=self.cse_id\n",
        "        )\n",
        "\n",
        "        self.tools = [\n",
        "            Tool(\n",
        "                name=\"Google Search\",\n",
        "                func=search.run,\n",
        "                description=\"Useful for finding information on current events, comparisons, or diverse perspectives.\",\n",
        "            ),\n",
        "        ]\n",
        "\n",
        "    def _setup_agent(self):\n",
        "        \"\"\"Sets up the ReAct agent and executor.\"\"\"\n",
        "        prompt = hub.pull(\"hwchase17/react\")\n",
        "        system_instruction = \"Once you are done finding the answer, only return Yes or No\"\n",
        "        prompt.template = system_instruction + \"\\n\" + prompt.template\n",
        "\n",
        "        self.agent = create_react_agent(self.llm, self.tools, prompt)\n",
        "\n",
        "        self.token_callback = TokenCountingCallbackHandler(self.model)\n",
        "        self.agent_executor = AgentExecutor(\n",
        "            agent=self.agent,\n",
        "            tools=self.tools,\n",
        "            verbose=False,\n",
        "            handle_parsing_errors=True,\n",
        "            max_iterations=self.max_iterations,\n",
        "            max_execution_time=self.max_execution_time,\n",
        "            callbacks=[self.token_callback],\n",
        "        )\n",
        "\n",
        "    def run(self, input_data: Union[Dict, str]) -> Dict:\n",
        "        \"\"\"\n",
        "        Runs the agent with the given input data.\n",
        "\n",
        "        Args:\n",
        "            input_data: Either a dictionary or a string representing the input for the agent.\n",
        "\n",
        "        Returns:\n",
        "            The output from the agent.\n",
        "        \"\"\"\n",
        "        if isinstance(input_data, str):\n",
        "            input_data = {\"input\": input_data}\n",
        "\n",
        "        start_time = time.time()  # Start timing\n",
        "        try:\n",
        "            result = self.agent_executor.invoke(input_data)\n",
        "            result[\"total_token\"] = self.token_callback.total_token\n",
        "\n",
        "            self.token_callback.reset()  # Reset after each run\n",
        "        except Exception as e:\n",
        "            print(f\"An error occurred: {e}\")\n",
        "            result = {\"error\": str(e)}\n",
        "        end_time = time.time()  # End timing\n",
        "\n",
        "        # Log wall time\n",
        "        wall_time = end_time - start_time\n",
        "        print(f\"Wall time for execution: {wall_time:.2f} seconds\")\n",
        "        result[\"wall_time\"] = wall_time\n",
        "\n",
        "        return result\n",
        "\n",
        "\n",
        "class TokenCountingCallbackHandler(BaseCallbackHandler):\n",
        "    \"\"\"Callback handler for counting tokens used by the language model.\"\"\"\n",
        "\n",
        "    def __init__(self, model_name: str):\n",
        "        self.model_name = model_name\n",
        "        self.total_token = 0\n",
        "        self.prompt_tokens = 0\n",
        "        self.completion_tokens = 0\n",
        "        self.encoding = tiktoken.get_encoding(\"cl100k_base\")\n",
        "\n",
        "    def on_llm_start(\n",
        "        self, serialized: Dict[str, any], prompts: List[str], **kwargs\n",
        "    ) -> None:\n",
        "        \"\"\"Collect prompt tokens when LLM starts.\"\"\"\n",
        "        for prompt in prompts:\n",
        "            self.prompt_tokens += len(self.encoding.encode(prompt))\n",
        "\n",
        "    def on_llm_end(self, response: LLMResult, **kwargs) -> None:\n",
        "        \"\"\"Collect completion tokens when LLM finishes generating.\"\"\"\n",
        "        if response.generations:\n",
        "            for generation_list in response.generations:\n",
        "                for generation in generation_list:\n",
        "                    if generation.text:\n",
        "                        self.completion_tokens += len(\n",
        "                            self.encoding.encode(generation.text)\n",
        "                        )\n",
        "\n",
        "    def on_agent_action(self, action: AgentAction, **kwargs) -> None:\n",
        "        \"\"\"Increment token count on agent action.\"\"\"\n",
        "        if action.log:\n",
        "            self.total_token += len(self.encoding.encode(action.log))\n",
        "\n",
        "    def on_agent_finish(self, finish: AgentFinish, **kwargs) -> None:\n",
        "        \"\"\"Increment token count on agent finish.\"\"\"\n",
        "        if finish.log:\n",
        "            self.total_token += len(self.encoding.encode(finish.log))\n",
        "\n",
        "    def on_chain_end(self, outputs, **kwargs) -> None:\n",
        "        \"\"\"Print the total tokens used when the chain finishes.\"\"\"\n",
        "        self.total_token += self.completion_tokens + self.prompt_tokens\n",
        "        print(f\"Prompt tokens: {self.prompt_tokens}\")\n",
        "        print(f\"Completion tokens: {self.completion_tokens}\")\n",
        "        print(f\"Total tokens used in this chain: {self.total_token}\")\n",
        "\n",
        "    def reset(self):\n",
        "        \"\"\"Reset the counters for the next chain run.\"\"\"\n",
        "        self.total_token = 0\n",
        "        self.prompt_tokens = 0\n",
        "        self.completion_tokens = 0\n"
      ],
      "metadata": {
        "id": "XhDsoEW8Hfxl"
      },
      "execution_count": 11,
      "outputs": []
    },
    {
      "cell_type": "code",
      "source": [
        "# agent_executor = ReActAgentExecutor()\n",
        "# result = agent_executor.run(train_ds[1][\"question\"])"
      ],
      "metadata": {
        "id": "dNmyUg2nH8nM"
      },
      "execution_count": 12,
      "outputs": []
    },
    {
      "cell_type": "markdown",
      "source": [
        "## ReWOO"
      ],
      "metadata": {
        "id": "aM_tfetUo5tr"
      }
    },
    {
      "cell_type": "markdown",
      "source": [
        "ReWOO: Decoupling Reasoning from Observations\n",
        "for Efficient Augmented Language Models [paper](https://arxiv.org/pdf/2305.18323)\n",
        "\n",
        "based on the implementation [here](https://github.com/billxbf/ReWOO/tree/main)"
      ],
      "metadata": {
        "id": "MwhdGb0u0e4r"
      }
    },
    {
      "cell_type": "code",
      "source": [
        "# --- Simplified Worker ---\n",
        "class GoogleSearchWorker:\n",
        "    def __init__(self, name=\"Google\"):\n",
        "        self.name = name\n",
        "        self.google_api_key = GOOGLE_API_KEY\n",
        "        self.cse_id = CSE_ID\n",
        "        self.description = \"Worker that searches results from Google. Useful when you need to find short \" \\\n",
        "                           \"and succinct answers about a specific topic. Input should be a search query.\"\n",
        "\n",
        "    def run(self, input):\n",
        "        search = GoogleSearchAPIWrapper(\n",
        "            google_api_key=self.google_api_key, google_cse_id=self.cse_id\n",
        "        )\n",
        "        # Get the results from the API\n",
        "        results = search.results(input, 1)\n",
        "\n",
        "        # Print the structure of the results for debugging\n",
        "        print(\"Results Structure:\", results)\n",
        "\n",
        "        evidence = \"\"\n",
        "        for result in results:\n",
        "            # Check if 'snippet' exists, otherwise use 'title' or 'body'\n",
        "            if \"snippet\" in result:\n",
        "                evidence += result[\"snippet\"]\n",
        "            elif \"title\" in result:\n",
        "                evidence += result[\"title\"]\n",
        "            elif \"body\" in result:  # Use \"body\" as a fallback\n",
        "                evidence += result[\"body\"]\n",
        "            else:\n",
        "                print(\"Warning: No relevant information found in result:\", result)\n",
        "\n",
        "        return evidence\n",
        "\n",
        "# --- LLM Node (Simplified) ---\n",
        "class LLMNode:\n",
        "    def __init__(self, name, model_name, stop=None, input_type=str, output_type=str):\n",
        "        self.name = name\n",
        "        self.model_name = model_name\n",
        "        self.model = model_name\n",
        "        self.stop = stop\n",
        "        self.input_type = input_type\n",
        "        self.output_type = output_type\n",
        "        self.generation_config = GENERATION_CONFIG\n",
        "        self.llm = ChatGoogleGenerativeAI(\n",
        "            model=self.model,\n",
        "            google_api_key=GEMINI_API_KEY,\n",
        "            generation_config=self.generation_config,\n",
        "            # safety_settings=self.safety_settings,\n",
        "        )\n",
        "        self.tokenizer = tiktoken.get_encoding(\"cl100k_base\")\n",
        "\n",
        "    def call_llm(self, prompt, stop):\n",
        "        if isinstance(prompt, list):\n",
        "            prompt_template = PromptTemplate(template=prompt[0], input_variables=[\"question\"])\n",
        "            prompt_text = prompt[0]\n",
        "            llm_chain = LLMChain(prompt=prompt_template, llm=self.llm, verbose=False)\n",
        "            response = llm_chain(prompt[1])\n",
        "            output = response[\"text\"].strip()\n",
        "        else:\n",
        "            prompt_template = PromptTemplate(template=prompt, input_variables=[])\n",
        "            prompt_text = prompt\n",
        "            llm_chain = LLMChain(prompt=prompt_template, llm=self.llm, verbose=False)\n",
        "            response = llm_chain({})\n",
        "            output = response[\"text\"].strip()\n",
        "\n",
        "        prompt_tokens = len(self.tokenizer.encode(prompt_text))\n",
        "        completion_tokens = len(self.tokenizer.encode(output))\n",
        "        return {\n",
        "            \"output\": output,\n",
        "            \"prompt_tokens\": prompt_tokens,\n",
        "            \"completion_tokens\": completion_tokens\n",
        "        }\n",
        "\n",
        "# --- Planner ---\n",
        "class Planner(LLMNode):\n",
        "    def __init__(self, model_name=\"gemini-pro\", fewshot=\"\"):\n",
        "        super().__init__(\"Planner\", model_name, stop=None, input_type=str, output_type=str)\n",
        "        self.worker_prompt = \"Tools can be one of the following:\\nGoogle[input]: Worker that searches results from Google. Useful when you need to find short and succinct answers about a specific topic. Input should be a search query.\\n\\n\"\n",
        "        self.prefix = \"For the following tasks, make plans that can solve the problem step-by-step. For each plan, \" \\\n",
        "                     \"indicate which external tool together with tool input to retrieve evidence. You can store the \" \\\n",
        "                     \"evidence into a variable #E that can be called by later tools. (Plan, #E1, Plan, #E2, Plan, ...) \\n\\n\"\n",
        "        self.suffix = \"Begin! Describe your plans with rich details. Each Plan should be followed by only one #E.\\n\\n\"\n",
        "        self.fewshot = fewshot\n",
        "\n",
        "    def run(self, input, log=False):\n",
        "        prompt = self.prefix + self.worker_prompt + self.fewshot + self.suffix + input + '\\n'\n",
        "        response = self.call_llm(prompt, self.stop)\n",
        "        if log:\n",
        "            return response\n",
        "        return response[\"output\"]\n",
        "\n",
        "# --- Solver ---\n",
        "class Solver(LLMNode):\n",
        "    def __init__(self, model_name=\"gemini-pro\"):\n",
        "        super().__init__(\"Solver\", model_name, stop=None, input_type=str, output_type=str)\n",
        "        self.prefix = \"Solve the following task or problem. To assist you, we provide some plans and corresponding evidences that might be helpful. Notice that some of these information contain noise so you should trust them with caution.\\n\\n\"\n",
        "        self.suffix = \"\\nNow begin to solve the task or problem. Respond with the answer directly with no extra words.\\n\\n\"\n",
        "\n",
        "    def run(self, input, worker_log, log=False):\n",
        "        prompt = self.prefix + input + \"\\n\" + worker_log + self.suffix + input + '\\n'\n",
        "        response = self.call_llm(prompt, self.stop)\n",
        "        if log:\n",
        "            return response\n",
        "        return response[\"output\"]\n",
        "\n",
        "# --- Main PWS Class ---\n",
        "class PWS:\n",
        "    def __init__(self, planner_model=\"gemini-pro\", solver_model=\"gemini-pro\", fewshot=\"\"):\n",
        "        self.worker = GoogleSearchWorker()\n",
        "        self.planner = Planner(model_name=planner_model, fewshot=fewshot)\n",
        "        self.solver = Solver(model_name=solver_model)\n",
        "        self.plans = []\n",
        "        self.planner_evidences = {}\n",
        "        self.worker_evidences = {}\n",
        "        self.tokenizer = tiktoken.get_encoding(\"cl100k_base\")\n",
        "    def run(self, input):\n",
        "        self._reinitialize()\n",
        "        result = {}\n",
        "        st = time.time()\n",
        "\n",
        "        # Plan\n",
        "        planner_response = self.planner.run(input, log=True)\n",
        "        plan = planner_response[\"output\"]\n",
        "\n",
        "        # Store the planner input before calling call_llm\n",
        "        planner_input = self.planner.prefix + self.planner.worker_prompt + self.planner.fewshot + self.planner.suffix + input + '\\n'\n",
        "\n",
        "        planner_log = planner_input + planner_response[\"output\"]\n",
        "\n",
        "        self.plans = self._parse_plans(plan)\n",
        "        self.planner_evidences = self._parse_planner_evidences(plan)\n",
        "\n",
        "        # --- Validation and Error Handling ---\n",
        "        valid_plan = self._validate_plan()\n",
        "        if not valid_plan:\n",
        "            print(\"Warning: Invalid plan generated. Skipping worker and passing the question to solver.\")\n",
        "            worker_log = \"\"\n",
        "            solver_input = self.solver.prefix + input + \"\\n\" + self.solver.suffix + input + '\\n'\n",
        "        else:\n",
        "            # Work\n",
        "            self._get_worker_evidences()\n",
        "            worker_log = \"\"\n",
        "            total_worker_tokens = 0\n",
        "            for i in range(len(self.plans)):\n",
        "                e = f\"#E{i + 1}\"\n",
        "                if e in self.worker_evidences:\n",
        "                    worker_log += f\"{self.plans[i]}\\nEvidence:\\n{self.worker_evidences[e]}\\n\"\n",
        "                    total_worker_tokens += self._count_tokens(self.worker_evidences[e])\n",
        "                else:\n",
        "                    worker_log += f\"{self.plans[i]}\\nEvidence:\\nNo evidence found for {e}\\n\"\n",
        "                    print(f\"Warning: No evidence found for {e} in self.worker_evidences\")\n",
        "\n",
        "        # Solve\n",
        "        solver_response = self.solver.run(input, worker_log, log=True)\n",
        "\n",
        "        # Similar fix for solver_log\n",
        "        if valid_plan:\n",
        "            solver_input = self.solver.prefix + input + \"\\n\" + worker_log + self.solver.suffix + input + '\\n'\n",
        "        else:\n",
        "            solver_input = self.solver.prefix + input + \"\\n\" + self.solver.suffix + input + '\\n'\n",
        "\n",
        "        output = solver_response[\"output\"]\n",
        "        solver_log = solver_input + solver_response[\"output\"]\n",
        "\n",
        "        result[\"wall_time\"] = time.time() - st\n",
        "        result[\"input\"] = input\n",
        "        result[\"output\"] = output\n",
        "        result[\"planner_log\"] = planner_log\n",
        "        result[\"worker_log\"] = worker_log\n",
        "        result[\"solver_log\"] = solver_log\n",
        "        result[\"steps\"] = len(self.plans) + 1\n",
        "        result[\"prompt_tokens\"] = planner_response[\"prompt_tokens\"] + solver_response[\"prompt_tokens\"]\n",
        "        result[\"completion_tokens\"] = planner_response[\"completion_tokens\"] + solver_response[\"completion_tokens\"]\n",
        "\n",
        "        if valid_plan:\n",
        "            result[\"total_token\"] = result[\"completion_tokens\"] + total_worker_tokens\n",
        "        else:\n",
        "            result[\"total_token\"] = result[\"completion_tokens\"]\n",
        "\n",
        "\n",
        "        result = {k: result[k] for k in [\"input\", \"output\", \"wall_time\", \"total_token\"]}\n",
        "\n",
        "        return result\n",
        "\n",
        "    def _validate_plan(self):\n",
        "        \"\"\"\n",
        "        Validates if the generated plan has the correct #E notation in sequence.\n",
        "        \"\"\"\n",
        "        for i in range(len(self.plans)):\n",
        "            expected_evidence_key = f\"#E{i + 1}\"\n",
        "            if expected_evidence_key not in self.planner_evidences:\n",
        "                return False\n",
        "        return True\n",
        "\n",
        "    def _parse_plans(self, response):\n",
        "        plans = []\n",
        "        for line in response.splitlines():\n",
        "            if line.startswith(\"Plan:\"):\n",
        "                plans.append(line)\n",
        "        return plans\n",
        "\n",
        "    def _parse_planner_evidences(self, response):\n",
        "        evidences = {}\n",
        "        for line in response.splitlines():\n",
        "            if line.startswith(\"#\") and line[1] == \"E\" and line[2].isdigit():\n",
        "                parts = line.split(\"=\", 1)  # Split into at most 2 parts\n",
        "                if len(parts) == 2:\n",
        "                    e, tool_call = parts\n",
        "                    e, tool_call = e.strip(), tool_call.strip()\n",
        "                    evidences[e] = tool_call\n",
        "                else:\n",
        "                    # Handle cases where there's no '=' after #E\n",
        "                    e = parts[0].strip()\n",
        "                    evidences[e] = \"No evidence found\"\n",
        "                    print(f\"Warning: Invalid planner evidence format: {line}\")\n",
        "        return evidences\n",
        "\n",
        "    def _get_worker_evidences(self):\n",
        "        for e, tool_call in self.planner_evidences.items():\n",
        "            if not tool_call.startswith(\"Google[\"):\n",
        "                self.worker_evidences[e] = \"No evidence found\"\n",
        "                continue\n",
        "            tool_input = tool_call[7:-1]\n",
        "            for var in re.findall(r\"#E\\d+\", tool_input):\n",
        "                if var in self.worker_evidences:\n",
        "                    tool_input = tool_input.replace(var, \"[\" + self.worker_evidences[var] + \"]\")\n",
        "\n",
        "            self.worker_evidences[e] = self.worker.run(tool_input)\n",
        "\n",
        "    def _reinitialize(self):\n",
        "        self.plans = []\n",
        "        self.planner_evidences = {}\n",
        "        self.worker_evidences = {}\n",
        "\n",
        "    def _count_tokens(self, text):\n",
        "        return len(self.tokenizer.encode(text))"
      ],
      "metadata": {
        "id": "MMDEkPJrulcx"
      },
      "execution_count": 13,
      "outputs": []
    },
    {
      "cell_type": "code",
      "source": [
        "# rewoo_executor = PWS()\n",
        "# result = rewoo_executor.run(train_ds[1][\"question\"])\n",
        "# result"
      ],
      "metadata": {
        "id": "hfK93ZR2qSBx"
      },
      "execution_count": 14,
      "outputs": []
    },
    {
      "cell_type": "markdown",
      "source": [
        "# Run evalaution"
      ],
      "metadata": {
        "id": "PZjBg0aDvgrE"
      }
    },
    {
      "cell_type": "code",
      "source": [
        "def run_experiment(data: List[Dict[str, Any]]) -> Dict[int, Dict[str, Any]]:\n",
        "    \"\"\"Processes data and runs three functions, storing results in a dictionary.\"\"\"\n",
        "\n",
        "    results = {}\n",
        "    question = data[\"question\"]\n",
        "\n",
        "    generate_result = generate(question)\n",
        "    agent_result = ReActAgentExecutor().run(question)\n",
        "    rewoo_result = PWS().run(question)\n",
        "\n",
        "    return {\n",
        "        \"gemini\": generate_result,\n",
        "        \"agent_executor\": agent_result,\n",
        "        \"rewoo_executor\": rewoo_result,\n",
        "        \"gt\": data['answer']\n",
        "    }"
      ],
      "metadata": {
        "id": "6Incv-aTvfwW"
      },
      "execution_count": 15,
      "outputs": []
    },
    {
      "cell_type": "code",
      "source": [
        "\n",
        "train_ds"
      ],
      "metadata": {
        "colab": {
          "base_uri": "https://localhost:8080/"
        },
        "id": "UkfBCPQJ_ey-",
        "outputId": "06e51b54-acb1-4d3e-a8cd-e3b146b361ab"
      },
      "execution_count": 16,
      "outputs": [
        {
          "output_type": "execute_result",
          "data": {
            "text/plain": [
              "Dataset({\n",
              "    features: ['qid', 'term', 'description', 'question', 'answer', 'facts'],\n",
              "    num_rows: 1603\n",
              "})"
            ]
          },
          "metadata": {},
          "execution_count": 16
        }
      ]
    },
    {
      "cell_type": "code",
      "source": [
        "new_ds = train_ds[85:]"
      ],
      "metadata": {
        "id": "oqc1zCnx7HMh"
      },
      "execution_count": 17,
      "outputs": []
    },
    {
      "cell_type": "code",
      "source": [
        "import json\n",
        "with open('./results.jsonl', \"a\") as file:\n",
        "    for data in train_ds.select(range(170, len(train_ds))):\n",
        "        result = run_experiment(data)\n",
        "        json.dump(result, file)\n",
        "        file.write(\"\\n\")"
      ],
      "metadata": {
        "colab": {
          "base_uri": "https://localhost:8080/"
        },
        "id": "f6S_dje1xadW",
        "outputId": "fbe352e7-d7ec-4348-8750-615f0c5f76f3"
      },
      "execution_count": null,
      "outputs": [
        {
          "output_type": "stream",
          "name": "stderr",
          "text": [
            "<ipython-input-11-6dad3c7242e3>:44: LangChainDeprecationWarning: The class `GoogleSearchAPIWrapper` was deprecated in LangChain 0.0.33 and will be removed in 1.0. An updated version of the class exists in the :class:`~langchain-google-community package and should be used instead. To use it run `pip install -U :class:`~langchain-google-community` and import as `from :class:`~langchain_google_community import GoogleSearchAPIWrapper``.\n",
            "  search = GoogleSearchAPIWrapper(\n",
            "/usr/local/lib/python3.11/dist-packages/langsmith/client.py:253: LangSmithMissingAPIKeyWarning: API key must be provided when using hosted LangSmith API\n",
            "  warnings.warn(\n"
          ]
        },
        {
          "output_type": "stream",
          "name": "stdout",
          "text": [
            "Prompt tokens: 0\n",
            "Completion tokens: 0\n",
            "Total tokens used in this chain: 64\n",
            "Wall time for execution: 2.23 seconds\n"
          ]
        },
        {
          "output_type": "stream",
          "name": "stderr",
          "text": [
            "<ipython-input-13-cda9bed7e755>:62: LangChainDeprecationWarning: The class `LLMChain` was deprecated in LangChain 0.1.17 and will be removed in 1.0. Use :meth:`~RunnableSequence, e.g., `prompt | llm`` instead.\n",
            "  llm_chain = LLMChain(prompt=prompt_template, llm=self.llm, verbose=False)\n",
            "<ipython-input-13-cda9bed7e755>:63: LangChainDeprecationWarning: The method `Chain.__call__` was deprecated in langchain 0.1.0 and will be removed in 1.0. Use :meth:`~invoke` instead.\n",
            "  response = llm_chain({})\n",
            "/usr/local/lib/python3.11/dist-packages/langsmith/client.py:253: LangSmithMissingAPIKeyWarning: API key must be provided when using hosted LangSmith API\n",
            "  warnings.warn(\n"
          ]
        },
        {
          "output_type": "stream",
          "name": "stdout",
          "text": [
            "Prompt tokens: 0\n",
            "Completion tokens: 0\n",
            "Total tokens used in this chain: 50\n",
            "Wall time for execution: 0.90 seconds\n",
            "Results Structure: [{'title': 'FLAN/flan/v2/cot_data/strategyqa_train.tsv at main · google-research ...', 'link': 'https://github.com/google-research/FLAN/blob/main/flan/v2/cot_data/strategyqa_train.tsv', 'snippet': 'Does Pikachu like Charles Darwin? yes Charles Darwin developed the theory of evolution. Pikachu is a Pokemon. Pokemon rely on evolution in order to\\xa0...'}]\n"
          ]
        },
        {
          "output_type": "stream",
          "name": "stderr",
          "text": [
            "/usr/local/lib/python3.11/dist-packages/langsmith/client.py:253: LangSmithMissingAPIKeyWarning: API key must be provided when using hosted LangSmith API\n",
            "  warnings.warn(\n"
          ]
        },
        {
          "output_type": "stream",
          "name": "stdout",
          "text": [
            "Prompt tokens: 0\n",
            "Completion tokens: 0\n",
            "Total tokens used in this chain: 76\n",
            "Wall time for execution: 1.54 seconds\n",
            "Warning: Invalid plan generated. Skipping worker and passing the question to solver.\n"
          ]
        },
        {
          "output_type": "stream",
          "name": "stderr",
          "text": [
            "/usr/local/lib/python3.11/dist-packages/langsmith/client.py:253: LangSmithMissingAPIKeyWarning: API key must be provided when using hosted LangSmith API\n",
            "  warnings.warn(\n"
          ]
        },
        {
          "output_type": "stream",
          "name": "stdout",
          "text": [
            "Prompt tokens: 0\n",
            "Completion tokens: 0\n",
            "Total tokens used in this chain: 112\n",
            "Wall time for execution: 2.44 seconds\n",
            "Warning: Invalid planner evidence format: #E1: Google[\"Survival rates of crocodiles and alligators in saltwater\"]\n",
            "Warning: Invalid plan generated. Skipping worker and passing the question to solver.\n"
          ]
        },
        {
          "output_type": "stream",
          "name": "stderr",
          "text": [
            "/usr/local/lib/python3.11/dist-packages/langsmith/client.py:253: LangSmithMissingAPIKeyWarning: API key must be provided when using hosted LangSmith API\n",
            "  warnings.warn(\n"
          ]
        },
        {
          "output_type": "stream",
          "name": "stdout",
          "text": [
            "Prompt tokens: 0\n",
            "Completion tokens: 0\n",
            "Total tokens used in this chain: 86\n",
            "Wall time for execution: 2.30 seconds\n",
            "Results Structure: [{'title': 'chiayewken/flan-v2 · Datasets at Hugging Face', 'link': 'https://huggingface.co/datasets/chiayewken/flan-v2', 'snippet': 'Is a railroad engineer needed during NASCAR events? Railroad engineers work on trains and railway systems. NASCAR events feature automobile races. Therefore\\xa0...'}]\n"
          ]
        },
        {
          "output_type": "stream",
          "name": "stderr",
          "text": [
            "/usr/local/lib/python3.11/dist-packages/langsmith/client.py:253: LangSmithMissingAPIKeyWarning: API key must be provided when using hosted LangSmith API\n",
            "  warnings.warn(\n"
          ]
        },
        {
          "output_type": "stream",
          "name": "stdout",
          "text": [
            "Prompt tokens: 0\n",
            "Completion tokens: 0\n",
            "Total tokens used in this chain: 149\n",
            "Wall time for execution: 3.45 seconds\n"
          ]
        },
        {
          "output_type": "stream",
          "name": "stderr",
          "text": [
            "/usr/local/lib/python3.11/dist-packages/langsmith/client.py:253: LangSmithMissingAPIKeyWarning: API key must be provided when using hosted LangSmith API\n",
            "  warnings.warn(\n"
          ]
        },
        {
          "output_type": "stream",
          "name": "stdout",
          "text": [
            "Prompt tokens: 0\n",
            "Completion tokens: 0\n",
            "Total tokens used in this chain: 48\n",
            "Wall time for execution: 2.54 seconds\n",
            "Results Structure: [{'title': 'FLAN/flan/v2/cot_data/strategyqa_train.tsv at main · google-research ...', 'link': 'https://github.com/google-research/FLAN/blob/main/flan/v2/cot_data/strategyqa_train.tsv', 'snippet': 'Are banana trees used by judges for maintaining order? no A banana tree has seeds that only have one embryonic leaf and is called a monocot. Judges use\\xa0...'}]\n",
            "Results Structure: [{'Result': 'No good Google Search Result was found'}]\n",
            "Warning: No relevant information found in result: {'Result': 'No good Google Search Result was found'}\n"
          ]
        },
        {
          "output_type": "stream",
          "name": "stderr",
          "text": [
            "/usr/local/lib/python3.11/dist-packages/langsmith/client.py:253: LangSmithMissingAPIKeyWarning: API key must be provided when using hosted LangSmith API\n",
            "  warnings.warn(\n"
          ]
        },
        {
          "output_type": "stream",
          "name": "stdout",
          "text": [
            "Prompt tokens: 0\n",
            "Completion tokens: 0\n",
            "Total tokens used in this chain: 111\n",
            "Wall time for execution: 2.10 seconds\n"
          ]
        },
        {
          "output_type": "stream",
          "name": "stderr",
          "text": [
            "/usr/local/lib/python3.11/dist-packages/langsmith/client.py:253: LangSmithMissingAPIKeyWarning: API key must be provided when using hosted LangSmith API\n",
            "  warnings.warn(\n"
          ]
        },
        {
          "output_type": "stream",
          "name": "stdout",
          "text": [
            "Prompt tokens: 0\n",
            "Completion tokens: 0\n",
            "Total tokens used in this chain: 78\n",
            "Wall time for execution: 1.69 seconds\n"
          ]
        },
        {
          "output_type": "stream",
          "name": "stderr",
          "text": [
            "/usr/local/lib/python3.11/dist-packages/langsmith/client.py:253: LangSmithMissingAPIKeyWarning: API key must be provided when using hosted LangSmith API\n",
            "  warnings.warn(\n"
          ]
        },
        {
          "output_type": "stream",
          "name": "stdout",
          "text": [
            "Prompt tokens: 0\n",
            "Completion tokens: 0\n",
            "Total tokens used in this chain: 70\n",
            "Wall time for execution: 2.62 seconds\n",
            "Warning: Invalid plan generated. Skipping worker and passing the question to solver.\n"
          ]
        },
        {
          "output_type": "stream",
          "name": "stderr",
          "text": [
            "/usr/local/lib/python3.11/dist-packages/langsmith/client.py:253: LangSmithMissingAPIKeyWarning: API key must be provided when using hosted LangSmith API\n",
            "  warnings.warn(\n"
          ]
        },
        {
          "output_type": "stream",
          "name": "stdout",
          "text": [
            "Prompt tokens: 0\n",
            "Completion tokens: 0\n",
            "Total tokens used in this chain: 114\n",
            "Wall time for execution: 1.85 seconds\n"
          ]
        },
        {
          "output_type": "stream",
          "name": "stderr",
          "text": [
            "/usr/local/lib/python3.11/dist-packages/langsmith/client.py:253: LangSmithMissingAPIKeyWarning: API key must be provided when using hosted LangSmith API\n",
            "  warnings.warn(\n"
          ]
        },
        {
          "output_type": "stream",
          "name": "stdout",
          "text": [
            "Prompt tokens: 0\n",
            "Completion tokens: 0\n",
            "Total tokens used in this chain: 43\n",
            "Wall time for execution: 0.71 seconds\n",
            "Results Structure: [{'Result': 'No good Google Search Result was found'}]\n",
            "Warning: No relevant information found in result: {'Result': 'No good Google Search Result was found'}\n"
          ]
        },
        {
          "output_type": "stream",
          "name": "stderr",
          "text": [
            "/usr/local/lib/python3.11/dist-packages/langsmith/client.py:253: LangSmithMissingAPIKeyWarning: API key must be provided when using hosted LangSmith API\n",
            "  warnings.warn(\n"
          ]
        },
        {
          "output_type": "stream",
          "name": "stdout",
          "text": [
            "Prompt tokens: 0\n",
            "Completion tokens: 0\n",
            "Total tokens used in this chain: 121\n",
            "Wall time for execution: 3.98 seconds\n",
            "Results Structure: [{'Result': 'No good Google Search Result was found'}]\n",
            "Warning: No relevant information found in result: {'Result': 'No good Google Search Result was found'}\n",
            "Results Structure: [{'Result': 'No good Google Search Result was found'}]\n",
            "Warning: No relevant information found in result: {'Result': 'No good Google Search Result was found'}\n"
          ]
        },
        {
          "output_type": "stream",
          "name": "stderr",
          "text": [
            "/usr/local/lib/python3.11/dist-packages/langsmith/client.py:253: LangSmithMissingAPIKeyWarning: API key must be provided when using hosted LangSmith API\n",
            "  warnings.warn(\n"
          ]
        },
        {
          "output_type": "stream",
          "name": "stdout",
          "text": [
            "Prompt tokens: 0\n",
            "Completion tokens: 0\n",
            "Total tokens used in this chain: 35\n",
            "Wall time for execution: 4.65 seconds\n",
            "Warning: Invalid planner evidence format: #E1: Black salt is not the same as sulfur. Black salt is a type of rock salt that contains trace minerals, while sulfur is a chemical element.\n",
            "Warning: Invalid planner evidence format: #E2: Black salt has a pungent, sulfurous smell.\n"
          ]
        },
        {
          "output_type": "stream",
          "name": "stderr",
          "text": [
            "/usr/local/lib/python3.11/dist-packages/langsmith/client.py:253: LangSmithMissingAPIKeyWarning: API key must be provided when using hosted LangSmith API\n",
            "  warnings.warn(\n"
          ]
        },
        {
          "output_type": "stream",
          "name": "stdout",
          "text": [
            "Prompt tokens: 0\n",
            "Completion tokens: 0\n",
            "Total tokens used in this chain: 39\n",
            "Wall time for execution: 5.85 seconds\n"
          ]
        },
        {
          "output_type": "stream",
          "name": "stderr",
          "text": [
            "/usr/local/lib/python3.11/dist-packages/langsmith/client.py:253: LangSmithMissingAPIKeyWarning: API key must be provided when using hosted LangSmith API\n",
            "  warnings.warn(\n"
          ]
        },
        {
          "output_type": "stream",
          "name": "stdout",
          "text": [
            "Prompt tokens: 0\n",
            "Completion tokens: 0\n",
            "Total tokens used in this chain: 96\n",
            "Wall time for execution: 2.28 seconds\n"
          ]
        },
        {
          "output_type": "stream",
          "name": "stderr",
          "text": [
            "/usr/local/lib/python3.11/dist-packages/langsmith/client.py:253: LangSmithMissingAPIKeyWarning: API key must be provided when using hosted LangSmith API\n",
            "  warnings.warn(\n"
          ]
        },
        {
          "output_type": "stream",
          "name": "stdout",
          "text": [
            "Prompt tokens: 0\n",
            "Completion tokens: 0\n",
            "Total tokens used in this chain: 47\n",
            "Wall time for execution: 4.59 seconds\n",
            "Warning: Invalid planner evidence format: #E1: Google[should cactus soil always be damp]: No, cactus soil should not always be damp. Cactus plants are succulents that store water in their stems, so they do not need to be watered frequently. Overwatering can lead to root rot and other problems.\n",
            "Warning: Invalid plan generated. Skipping worker and passing the question to solver.\n"
          ]
        },
        {
          "output_type": "stream",
          "name": "stderr",
          "text": [
            "/usr/local/lib/python3.11/dist-packages/langsmith/client.py:253: LangSmithMissingAPIKeyWarning: API key must be provided when using hosted LangSmith API\n",
            "  warnings.warn(\n"
          ]
        },
        {
          "output_type": "stream",
          "name": "stdout",
          "text": [
            "Prompt tokens: 0\n",
            "Completion tokens: 0\n",
            "Total tokens used in this chain: 105\n",
            "Wall time for execution: 7.72 seconds\n",
            "Warning: Invalid planner evidence format: #E1: Google[\"Who played Elizabeth II in The Crown?\"]\n",
            "Warning: Invalid plan generated. Skipping worker and passing the question to solver.\n"
          ]
        },
        {
          "output_type": "stream",
          "name": "stderr",
          "text": [
            "/usr/local/lib/python3.11/dist-packages/langsmith/client.py:253: LangSmithMissingAPIKeyWarning: API key must be provided when using hosted LangSmith API\n",
            "  warnings.warn(\n"
          ]
        },
        {
          "output_type": "stream",
          "name": "stdout",
          "text": [
            "Prompt tokens: 0\n",
            "Completion tokens: 0\n",
            "Total tokens used in this chain: 50\n",
            "Wall time for execution: 3.40 seconds\n",
            "Results Structure: [{'title': 'Roman numerals - Wikipedia', 'link': 'https://en.wikipedia.org/wiki/Roman_numerals', 'snippet': 'Roman numerals are a numeral system that originated in ancient Rome and remained the usual way of writing numbers throughout Europe well into the Late\\xa0...'}]\n"
          ]
        },
        {
          "output_type": "stream",
          "name": "stderr",
          "text": [
            "/usr/local/lib/python3.11/dist-packages/langsmith/client.py:253: LangSmithMissingAPIKeyWarning: API key must be provided when using hosted LangSmith API\n",
            "  warnings.warn(\n"
          ]
        },
        {
          "output_type": "stream",
          "name": "stdout",
          "text": [
            "Prompt tokens: 0\n",
            "Completion tokens: 0\n",
            "Total tokens used in this chain: 82\n",
            "Wall time for execution: 14.61 seconds\n",
            "Warning: Invalid planner evidence format: #E1: [Google: \"History of Frederick II becoming King of Prussia\"]\n",
            "Warning: Invalid planner evidence format: #E2: [Google: \"Social Democratic Party of Germany and Frederick II\"]\n",
            "Warning: Invalid plan generated. Skipping worker and passing the question to solver.\n"
          ]
        },
        {
          "output_type": "stream",
          "name": "stderr",
          "text": [
            "/usr/local/lib/python3.11/dist-packages/langsmith/client.py:253: LangSmithMissingAPIKeyWarning: API key must be provided when using hosted LangSmith API\n",
            "  warnings.warn(\n"
          ]
        },
        {
          "output_type": "stream",
          "name": "stdout",
          "text": [
            "Prompt tokens: 0\n",
            "Completion tokens: 0\n",
            "Total tokens used in this chain: 48\n",
            "Wall time for execution: 8.34 seconds\n",
            "Results Structure: [{'title': 'Why is there so much hate for Ubuntu? : r/linux4noobs', 'link': 'https://www.reddit.com/r/linux4noobs/comments/1bh1k5d/why_is_there_so_much_hate_for_ubuntu/', 'snippet': 'Mar 17, 2024 ... Often when someone has a question about how to do something on Ubuntu people just recommend they get a \"better\" distro. So, what\\'s with the\\xa0...'}]\n",
            "Results Structure: [{'title': 'Ubuntu: Enterprise Open Source and Linux', 'link': 'https://ubuntu.com/', 'snippet': 'Ubuntu is the modern, open source operating system on Linux for the enterprise server, desktop, cloud, and IoT.'}]\n"
          ]
        },
        {
          "output_type": "stream",
          "name": "stderr",
          "text": [
            "/usr/local/lib/python3.11/dist-packages/langsmith/client.py:253: LangSmithMissingAPIKeyWarning: API key must be provided when using hosted LangSmith API\n",
            "  warnings.warn(\n"
          ]
        },
        {
          "output_type": "stream",
          "name": "stdout",
          "text": [
            "Prompt tokens: 0\n",
            "Completion tokens: 0\n",
            "Total tokens used in this chain: 5\n",
            "Wall time for execution: 3.58 seconds\n"
          ]
        },
        {
          "output_type": "stream",
          "name": "stderr",
          "text": [
            "/usr/local/lib/python3.11/dist-packages/langsmith/client.py:253: LangSmithMissingAPIKeyWarning: API key must be provided when using hosted LangSmith API\n",
            "  warnings.warn(\n"
          ]
        },
        {
          "output_type": "stream",
          "name": "stdout",
          "text": [
            "Prompt tokens: 0\n",
            "Completion tokens: 0\n",
            "Total tokens used in this chain: 40\n",
            "Wall time for execution: 15.48 seconds\n",
            "Warning: Invalid planner evidence format: #E1: Google[\"Is there a Yeti associated with Disney theme parks?\"]\n",
            "Warning: Invalid planner evidence format: #E2: Disney_Website[\"\"]\n",
            "Warning: Invalid plan generated. Skipping worker and passing the question to solver.\n"
          ]
        },
        {
          "output_type": "stream",
          "name": "stderr",
          "text": [
            "/usr/local/lib/python3.11/dist-packages/langsmith/client.py:253: LangSmithMissingAPIKeyWarning: API key must be provided when using hosted LangSmith API\n",
            "  warnings.warn(\n"
          ]
        },
        {
          "output_type": "stream",
          "name": "stdout",
          "text": [
            "Prompt tokens: 0\n",
            "Completion tokens: 0\n",
            "Total tokens used in this chain: 63\n",
            "Wall time for execution: 7.63 seconds\n"
          ]
        },
        {
          "output_type": "stream",
          "name": "stderr",
          "text": [
            "/usr/local/lib/python3.11/dist-packages/langsmith/client.py:253: LangSmithMissingAPIKeyWarning: API key must be provided when using hosted LangSmith API\n",
            "  warnings.warn(\n"
          ]
        },
        {
          "output_type": "stream",
          "name": "stdout",
          "text": [
            "Prompt tokens: 0\n",
            "Completion tokens: 0\n",
            "Total tokens used in this chain: 56\n",
            "Wall time for execution: 7.47 seconds\n",
            "Warning: Invalid plan generated. Skipping worker and passing the question to solver.\n"
          ]
        },
        {
          "output_type": "stream",
          "name": "stderr",
          "text": [
            "/usr/local/lib/python3.11/dist-packages/langsmith/client.py:253: LangSmithMissingAPIKeyWarning: API key must be provided when using hosted LangSmith API\n",
            "  warnings.warn(\n"
          ]
        },
        {
          "output_type": "stream",
          "name": "stdout",
          "text": [
            "Prompt tokens: 0\n",
            "Completion tokens: 0\n",
            "Total tokens used in this chain: 51\n",
            "Wall time for execution: 13.15 seconds\n",
            "Warning: Invalid planner evidence format: #E1: Google[\"Jehovah's Witnesses New Year's Day\"]\n",
            "Warning: Invalid plan generated. Skipping worker and passing the question to solver.\n"
          ]
        },
        {
          "output_type": "stream",
          "name": "stderr",
          "text": [
            "/usr/local/lib/python3.11/dist-packages/langsmith/client.py:253: LangSmithMissingAPIKeyWarning: API key must be provided when using hosted LangSmith API\n",
            "  warnings.warn(\n"
          ]
        },
        {
          "output_type": "stream",
          "name": "stdout",
          "text": [
            "Prompt tokens: 0\n",
            "Completion tokens: 0\n",
            "Total tokens used in this chain: 85\n",
            "Wall time for execution: 5.48 seconds\n",
            "Warning: Invalid plan generated. Skipping worker and passing the question to solver.\n"
          ]
        },
        {
          "output_type": "stream",
          "name": "stderr",
          "text": [
            "/usr/local/lib/python3.11/dist-packages/langsmith/client.py:253: LangSmithMissingAPIKeyWarning: API key must be provided when using hosted LangSmith API\n",
            "  warnings.warn(\n"
          ]
        },
        {
          "output_type": "stream",
          "name": "stdout",
          "text": [
            "Prompt tokens: 0\n",
            "Completion tokens: 0\n",
            "Total tokens used in this chain: 48\n",
            "Wall time for execution: 11.48 seconds\n",
            "Warning: Invalid plan generated. Skipping worker and passing the question to solver.\n"
          ]
        },
        {
          "output_type": "stream",
          "name": "stderr",
          "text": [
            "/usr/local/lib/python3.11/dist-packages/langsmith/client.py:253: LangSmithMissingAPIKeyWarning: API key must be provided when using hosted LangSmith API\n",
            "  warnings.warn(\n"
          ]
        },
        {
          "output_type": "stream",
          "name": "stdout",
          "text": [
            "Prompt tokens: 0\n",
            "Completion tokens: 0\n",
            "Total tokens used in this chain: 133\n",
            "Wall time for execution: 8.20 seconds\n",
            "Results Structure: [{'title': 'FLAN/flan/v2/cot_data/strategyqa_train.tsv at main · google-research ...', 'link': 'https://github.com/google-research/FLAN/blob/main/flan/v2/cot_data/strategyqa_train.tsv', 'snippet': 'Can a carrot receive an organ transplant? no Organs are groups of tissues that perform a similar function. The whole of a carrot is a root. A root is a\\xa0...'}]\n"
          ]
        },
        {
          "output_type": "stream",
          "name": "stderr",
          "text": [
            "/usr/local/lib/python3.11/dist-packages/langsmith/client.py:253: LangSmithMissingAPIKeyWarning: API key must be provided when using hosted LangSmith API\n",
            "  warnings.warn(\n"
          ]
        },
        {
          "output_type": "stream",
          "name": "stdout",
          "text": [
            "Prompt tokens: 0\n",
            "Completion tokens: 0\n",
            "Total tokens used in this chain: 116\n",
            "Wall time for execution: 5.81 seconds\n",
            "Warning: Invalid planner evidence format: #E1: Google[\"Did Disney get most of Rudyard Kipling's The Jungle Book profits?\"]\n",
            "Warning: Invalid plan generated. Skipping worker and passing the question to solver.\n"
          ]
        },
        {
          "output_type": "stream",
          "name": "stderr",
          "text": [
            "/usr/local/lib/python3.11/dist-packages/langsmith/client.py:253: LangSmithMissingAPIKeyWarning: API key must be provided when using hosted LangSmith API\n",
            "  warnings.warn(\n"
          ]
        },
        {
          "output_type": "stream",
          "name": "stdout",
          "text": [
            "Prompt tokens: 0\n",
            "Completion tokens: 0\n",
            "Total tokens used in this chain: 69\n",
            "Wall time for execution: 3.69 seconds\n",
            "Results Structure: [{'title': 'Kristen Bell has some doubts about Snow White and consent | Vox', 'link': 'https://www.vox.com/culture/2018/10/19/17995442/snow-white-history-evolution-consent-kristen-bell', 'snippet': \"Oct 19, 2018 ... Kristen Bell has some doubts about Snow White and consent. She's part of a long tradition. Kissing a sleeping girl isn't fundamental to Snow White.\"}]\n",
            "Results Structure: [{'title': 'Legal Role of Consent | RAINN', 'link': 'https://rainn.org/articles/legal-role-consent', 'snippet': 'There is no single legal definition of consent. Each state sets its own definition, either in law or through court cases. In general, there are three main\\xa0...'}]\n"
          ]
        },
        {
          "output_type": "stream",
          "name": "stderr",
          "text": [
            "/usr/local/lib/python3.11/dist-packages/langsmith/client.py:253: LangSmithMissingAPIKeyWarning: API key must be provided when using hosted LangSmith API\n",
            "  warnings.warn(\n"
          ]
        },
        {
          "output_type": "stream",
          "name": "stdout",
          "text": [
            "Prompt tokens: 0\n",
            "Completion tokens: 0\n",
            "Total tokens used in this chain: 40\n",
            "Wall time for execution: 7.96 seconds\n",
            "Warning: Invalid planner evidence format: #E1: \"Washington Irving was an American author who wrote 'The Legend of Sleepy Hollow' and 'Rip Van Winkle'. He was influenced by Irish mythology, which he encountered through the work of Thomas Moore and other writers.\" (Google[\"Washington Irving Irish mythology\"])\n",
            "Warning: Invalid planner evidence format: #E2: \"Washington Irving was an American author who wrote 'The Legend of Sleepy Hollow' and 'Rip Van Winkle'. He was influenced by Celtic folklore, which he encountered through the work of Thomas Moore and other writers.\" (Google[\"Washington Irving Celtic folklore\"])\n",
            "Warning: Invalid plan generated. Skipping worker and passing the question to solver.\n"
          ]
        },
        {
          "output_type": "stream",
          "name": "stderr",
          "text": [
            "/usr/local/lib/python3.11/dist-packages/langsmith/client.py:253: LangSmithMissingAPIKeyWarning: API key must be provided when using hosted LangSmith API\n",
            "  warnings.warn(\n"
          ]
        },
        {
          "output_type": "stream",
          "name": "stdout",
          "text": [
            "Prompt tokens: 0\n",
            "Completion tokens: 0\n",
            "Total tokens used in this chain: 55\n",
            "Wall time for execution: 5.88 seconds\n",
            "Warning: Invalid plan generated. Skipping worker and passing the question to solver.\n"
          ]
        },
        {
          "output_type": "stream",
          "name": "stderr",
          "text": [
            "/usr/local/lib/python3.11/dist-packages/langsmith/client.py:253: LangSmithMissingAPIKeyWarning: API key must be provided when using hosted LangSmith API\n",
            "  warnings.warn(\n"
          ]
        },
        {
          "output_type": "stream",
          "name": "stdout",
          "text": [
            "Prompt tokens: 0\n",
            "Completion tokens: 0\n",
            "Total tokens used in this chain: 49\n",
            "Wall time for execution: 8.69 seconds\n"
          ]
        },
        {
          "output_type": "stream",
          "name": "stderr",
          "text": [
            "/usr/local/lib/python3.11/dist-packages/langsmith/client.py:253: LangSmithMissingAPIKeyWarning: API key must be provided when using hosted LangSmith API\n",
            "  warnings.warn(\n"
          ]
        },
        {
          "output_type": "stream",
          "name": "stdout",
          "text": [
            "Prompt tokens: 0\n",
            "Completion tokens: 0\n",
            "Total tokens used in this chain: 34\n",
            "Wall time for execution: 12.17 seconds\n"
          ]
        },
        {
          "output_type": "stream",
          "name": "stderr",
          "text": [
            "/usr/local/lib/python3.11/dist-packages/langsmith/client.py:253: LangSmithMissingAPIKeyWarning: API key must be provided when using hosted LangSmith API\n",
            "  warnings.warn(\n"
          ]
        },
        {
          "output_type": "stream",
          "name": "stdout",
          "text": [
            "Prompt tokens: 0\n",
            "Completion tokens: 0\n",
            "Total tokens used in this chain: 18\n",
            "Wall time for execution: 0.51 seconds\n"
          ]
        },
        {
          "output_type": "stream",
          "name": "stderr",
          "text": [
            "/usr/local/lib/python3.11/dist-packages/langsmith/client.py:253: LangSmithMissingAPIKeyWarning: API key must be provided when using hosted LangSmith API\n",
            "  warnings.warn(\n"
          ]
        },
        {
          "output_type": "stream",
          "name": "stdout",
          "text": [
            "Prompt tokens: 0\n",
            "Completion tokens: 0\n",
            "Total tokens used in this chain: 98\n",
            "Wall time for execution: 3.00 seconds\n",
            "Warning: Invalid plan generated. Skipping worker and passing the question to solver.\n"
          ]
        },
        {
          "output_type": "stream",
          "name": "stderr",
          "text": [
            "/usr/local/lib/python3.11/dist-packages/langsmith/client.py:253: LangSmithMissingAPIKeyWarning: API key must be provided when using hosted LangSmith API\n",
            "  warnings.warn(\n"
          ]
        },
        {
          "output_type": "stream",
          "name": "stdout",
          "text": [
            "Prompt tokens: 0\n",
            "Completion tokens: 0\n",
            "Total tokens used in this chain: 104\n",
            "Wall time for execution: 7.95 seconds\n",
            "Warning: Invalid planner evidence format: #E1: According to Google, The Hague borders the North Sea.\n",
            "Warning: Invalid plan generated. Skipping worker and passing the question to solver.\n"
          ]
        },
        {
          "output_type": "stream",
          "name": "stderr",
          "text": [
            "/usr/local/lib/python3.11/dist-packages/langsmith/client.py:253: LangSmithMissingAPIKeyWarning: API key must be provided when using hosted LangSmith API\n",
            "  warnings.warn(\n"
          ]
        },
        {
          "output_type": "stream",
          "name": "stdout",
          "text": [
            "Prompt tokens: 0\n",
            "Completion tokens: 0\n",
            "Total tokens used in this chain: 97\n",
            "Wall time for execution: 6.08 seconds\n",
            "Warning: Invalid planner evidence format: #E1: Google[\"Bruce Lee University of Washington graduation 1964\"]\n",
            "Warning: Invalid plan generated. Skipping worker and passing the question to solver.\n"
          ]
        },
        {
          "output_type": "stream",
          "name": "stderr",
          "text": [
            "/usr/local/lib/python3.11/dist-packages/langsmith/client.py:253: LangSmithMissingAPIKeyWarning: API key must be provided when using hosted LangSmith API\n",
            "  warnings.warn(\n"
          ]
        },
        {
          "output_type": "stream",
          "name": "stdout",
          "text": [
            "Prompt tokens: 0\n",
            "Completion tokens: 0\n",
            "Total tokens used in this chain: 46\n",
            "Wall time for execution: 24.86 seconds\n",
            "Warning: Invalid planner evidence format: #E1: Google[\"Is spaghetti safe for celiac disease?\"]\n",
            "Warning: Invalid plan generated. Skipping worker and passing the question to solver.\n"
          ]
        },
        {
          "output_type": "stream",
          "name": "stderr",
          "text": [
            "/usr/local/lib/python3.11/dist-packages/langsmith/client.py:253: LangSmithMissingAPIKeyWarning: API key must be provided when using hosted LangSmith API\n",
            "  warnings.warn(\n"
          ]
        },
        {
          "output_type": "stream",
          "name": "stdout",
          "text": [
            "Prompt tokens: 0\n",
            "Completion tokens: 0\n",
            "Total tokens used in this chain: 66\n",
            "Wall time for execution: 3.12 seconds\n"
          ]
        },
        {
          "output_type": "stream",
          "name": "stderr",
          "text": [
            "/usr/local/lib/python3.11/dist-packages/langsmith/client.py:253: LangSmithMissingAPIKeyWarning: API key must be provided when using hosted LangSmith API\n",
            "  warnings.warn(\n"
          ]
        },
        {
          "output_type": "stream",
          "name": "stdout",
          "text": [
            "Prompt tokens: 0\n",
            "Completion tokens: 0\n",
            "Total tokens used in this chain: 153\n",
            "Wall time for execution: 24.31 seconds\n",
            "Results Structure: [{'Result': 'No good Google Search Result was found'}]\n",
            "Warning: No relevant information found in result: {'Result': 'No good Google Search Result was found'}\n",
            "Results Structure: [{'title': \"John McCain's alma mater: Abbr. Crossword Clue: 1 Answer with 4 ...\", 'link': 'https://www.crosswordsolver.com/clue/JOHN-MCCAIN-S-ALMA-MATER-ABBR', 'snippet': \"John Kerry's alma mater (72.77%) · John Wayne alma mater (72.5%) · Adams, John alma mater (72.5%) · John Grisham alma mater (72.5%) · Father's alma mater: Abbr\\xa0...\"}]\n",
            "Results Structure: [{'Result': 'No good Google Search Result was found'}]\n",
            "Warning: No relevant information found in result: {'Result': 'No good Google Search Result was found'}\n"
          ]
        },
        {
          "output_type": "stream",
          "name": "stderr",
          "text": [
            "/usr/local/lib/python3.11/dist-packages/langsmith/client.py:253: LangSmithMissingAPIKeyWarning: API key must be provided when using hosted LangSmith API\n",
            "  warnings.warn(\n"
          ]
        },
        {
          "output_type": "stream",
          "name": "stdout",
          "text": [
            "Prompt tokens: 0\n",
            "Completion tokens: 0\n",
            "Total tokens used in this chain: 32\n",
            "Wall time for execution: 4.09 seconds\n",
            "Warning: Invalid planner evidence format: #E1: Google[Is Janet Jackson a vegetarian?]: No, Janet Jackson is not a vegetarian.\n",
            "Warning: Invalid planner evidence format: #E2: Google[Does Janet Jackson eat pork?]: There is no information about whether Janet Jackson eats pork.\n",
            "Warning: Invalid plan generated. Skipping worker and passing the question to solver.\n"
          ]
        },
        {
          "output_type": "stream",
          "name": "stderr",
          "text": [
            "/usr/local/lib/python3.11/dist-packages/langsmith/client.py:253: LangSmithMissingAPIKeyWarning: API key must be provided when using hosted LangSmith API\n",
            "  warnings.warn(\n"
          ]
        },
        {
          "output_type": "stream",
          "name": "stdout",
          "text": [
            "Prompt tokens: 0\n",
            "Completion tokens: 0\n",
            "Total tokens used in this chain: 98\n",
            "Wall time for execution: 10.27 seconds\n",
            "Warning: Invalid planner evidence format: #E1: Cosmic Girls is a South Korean girl group.\n",
            "Warning: Invalid planner evidence format: #E2: There is no evidence to suggest that girl groups cannot play League of Legends.\n"
          ]
        },
        {
          "output_type": "stream",
          "name": "stderr",
          "text": [
            "/usr/local/lib/python3.11/dist-packages/langsmith/client.py:253: LangSmithMissingAPIKeyWarning: API key must be provided when using hosted LangSmith API\n",
            "  warnings.warn(\n"
          ]
        },
        {
          "output_type": "stream",
          "name": "stdout",
          "text": [
            "Prompt tokens: 0\n",
            "Completion tokens: 0\n",
            "Total tokens used in this chain: 103\n",
            "Wall time for execution: 4.41 seconds\n",
            "Warning: Invalid plan generated. Skipping worker and passing the question to solver.\n"
          ]
        },
        {
          "output_type": "stream",
          "name": "stderr",
          "text": [
            "/usr/local/lib/python3.11/dist-packages/langsmith/client.py:253: LangSmithMissingAPIKeyWarning: API key must be provided when using hosted LangSmith API\n",
            "  warnings.warn(\n"
          ]
        },
        {
          "output_type": "stream",
          "name": "stdout",
          "text": [
            "Prompt tokens: 0\n",
            "Completion tokens: 0\n",
            "Total tokens used in this chain: 56\n",
            "Wall time for execution: 12.64 seconds\n",
            "Warning: Invalid planner evidence format: #E1: The search results from Google show that it is unusual to see frost in September in Texas, but it can happen.\n",
            "Warning: Invalid planner evidence format: #E2: The search results from Google show that the average temperature in September in Texas is between 70 and 80 degrees Fahrenheit.\n"
          ]
        },
        {
          "output_type": "stream",
          "name": "stderr",
          "text": [
            "/usr/local/lib/python3.11/dist-packages/langsmith/client.py:253: LangSmithMissingAPIKeyWarning: API key must be provided when using hosted LangSmith API\n",
            "  warnings.warn(\n"
          ]
        },
        {
          "output_type": "stream",
          "name": "stdout",
          "text": [
            "Prompt tokens: 0\n",
            "Completion tokens: 0\n",
            "Total tokens used in this chain: 58\n",
            "Wall time for execution: 4.43 seconds\n",
            "Warning: Invalid plan generated. Skipping worker and passing the question to solver.\n"
          ]
        },
        {
          "output_type": "stream",
          "name": "stderr",
          "text": [
            "/usr/local/lib/python3.11/dist-packages/langsmith/client.py:253: LangSmithMissingAPIKeyWarning: API key must be provided when using hosted LangSmith API\n",
            "  warnings.warn(\n"
          ]
        },
        {
          "output_type": "stream",
          "name": "stdout",
          "text": [
            "Prompt tokens: 0\n",
            "Completion tokens: 0\n",
            "Total tokens used in this chain: 100\n",
            "Wall time for execution: 4.67 seconds\n"
          ]
        },
        {
          "output_type": "stream",
          "name": "stderr",
          "text": [
            "/usr/local/lib/python3.11/dist-packages/langsmith/client.py:253: LangSmithMissingAPIKeyWarning: API key must be provided when using hosted LangSmith API\n",
            "  warnings.warn(\n"
          ]
        },
        {
          "output_type": "stream",
          "name": "stdout",
          "text": [
            "Prompt tokens: 0\n",
            "Completion tokens: 0\n",
            "Total tokens used in this chain: 107\n",
            "Wall time for execution: 6.79 seconds\n",
            "Warning: Invalid planner evidence format: #E1: Google search results for \"Is it safe to eat kidney\"\n",
            "Warning: Invalid plan generated. Skipping worker and passing the question to solver.\n"
          ]
        },
        {
          "output_type": "stream",
          "name": "stderr",
          "text": [
            "/usr/local/lib/python3.11/dist-packages/langsmith/client.py:253: LangSmithMissingAPIKeyWarning: API key must be provided when using hosted LangSmith API\n",
            "  warnings.warn(\n"
          ]
        },
        {
          "output_type": "stream",
          "name": "stdout",
          "text": [
            "Prompt tokens: 0\n",
            "Completion tokens: 0\n",
            "Total tokens used in this chain: 22\n",
            "Wall time for execution: 0.81 seconds\n",
            "Results Structure: [{'title': 'How does your scoring system work? : r/LetsTalkMusic', 'link': 'https://www.reddit.com/r/LetsTalkMusic/comments/15vjjmc/how_does_your_scoring_system_work/', 'snippet': \"Aug 19, 2023 ... I use a 4-star rating system (good, great, better, best). I keep track of the albums in a notebook. if it's not an album I'd like to revisit\\xa0...\"}]\n",
            "Results Structure: [{'title': 'Systematic Collaborative Reanalysis of Genomic Data Improves ...', 'link': 'https://www.sciencedirect.com/science/article/pii/S152515782200068X', 'snippet': '... star rating system: bad (0 to 1.4), fair (1.5 to 2.4), good (2.5 to 3.4), very good (3.5 to 4.4), and excellent (4.5 to 5). All phenotypic entries were\\xa0...'}]\n"
          ]
        },
        {
          "output_type": "stream",
          "name": "stderr",
          "text": [
            "/usr/local/lib/python3.11/dist-packages/langsmith/client.py:253: LangSmithMissingAPIKeyWarning: API key must be provided when using hosted LangSmith API\n",
            "  warnings.warn(\n"
          ]
        },
        {
          "output_type": "stream",
          "name": "stdout",
          "text": [
            "Prompt tokens: 0\n",
            "Completion tokens: 0\n",
            "Total tokens used in this chain: 112\n",
            "Wall time for execution: 9.05 seconds\n",
            "Results Structure: [{'Result': 'No good Google Search Result was found'}]\n",
            "Warning: No relevant information found in result: {'Result': 'No good Google Search Result was found'}\n"
          ]
        },
        {
          "output_type": "stream",
          "name": "stderr",
          "text": [
            "/usr/local/lib/python3.11/dist-packages/langsmith/client.py:253: LangSmithMissingAPIKeyWarning: API key must be provided when using hosted LangSmith API\n",
            "  warnings.warn(\n"
          ]
        },
        {
          "output_type": "stream",
          "name": "stdout",
          "text": [
            "Prompt tokens: 0\n",
            "Completion tokens: 0\n",
            "Total tokens used in this chain: 78\n",
            "Wall time for execution: 10.38 seconds\n",
            "Results Structure: [{'Result': 'No good Google Search Result was found'}]\n",
            "Warning: No relevant information found in result: {'Result': 'No good Google Search Result was found'}\n",
            "Results Structure: [{'Result': 'No good Google Search Result was found'}]\n",
            "Warning: No relevant information found in result: {'Result': 'No good Google Search Result was found'}\n"
          ]
        },
        {
          "output_type": "stream",
          "name": "stderr",
          "text": [
            "/usr/local/lib/python3.11/dist-packages/langsmith/client.py:253: LangSmithMissingAPIKeyWarning: API key must be provided when using hosted LangSmith API\n",
            "  warnings.warn(\n"
          ]
        },
        {
          "output_type": "stream",
          "name": "stdout",
          "text": [
            "Prompt tokens: 0\n",
            "Completion tokens: 0\n",
            "Total tokens used in this chain: 37\n",
            "Wall time for execution: 3.72 seconds\n",
            "Warning: Invalid planner evidence format: #E1: Google[\"history of the New York Harbor\"]\n",
            "Warning: Invalid plan generated. Skipping worker and passing the question to solver.\n"
          ]
        },
        {
          "output_type": "stream",
          "name": "stderr",
          "text": [
            "/usr/local/lib/python3.11/dist-packages/langsmith/client.py:253: LangSmithMissingAPIKeyWarning: API key must be provided when using hosted LangSmith API\n",
            "  warnings.warn(\n"
          ]
        },
        {
          "output_type": "stream",
          "name": "stdout",
          "text": [
            "Prompt tokens: 0\n",
            "Completion tokens: 0\n",
            "Total tokens used in this chain: 42\n",
            "Wall time for execution: 1.72 seconds\n"
          ]
        },
        {
          "output_type": "stream",
          "name": "stderr",
          "text": [
            "/usr/local/lib/python3.11/dist-packages/langsmith/client.py:253: LangSmithMissingAPIKeyWarning: API key must be provided when using hosted LangSmith API\n",
            "  warnings.warn(\n"
          ]
        },
        {
          "output_type": "stream",
          "name": "stdout",
          "text": [
            "Prompt tokens: 0\n",
            "Completion tokens: 0\n",
            "Total tokens used in this chain: 114\n",
            "Wall time for execution: 4.52 seconds\n",
            "Results Structure: [{'Result': 'No good Google Search Result was found'}]\n",
            "Warning: No relevant information found in result: {'Result': 'No good Google Search Result was found'}\n",
            "Results Structure: [{'Result': 'No good Google Search Result was found'}]\n",
            "Warning: No relevant information found in result: {'Result': 'No good Google Search Result was found'}\n",
            "Results Structure: [{'Result': 'No good Google Search Result was found'}]\n",
            "Warning: No relevant information found in result: {'Result': 'No good Google Search Result was found'}\n"
          ]
        },
        {
          "output_type": "stream",
          "name": "stderr",
          "text": [
            "/usr/local/lib/python3.11/dist-packages/langsmith/client.py:253: LangSmithMissingAPIKeyWarning: API key must be provided when using hosted LangSmith API\n",
            "  warnings.warn(\n"
          ]
        },
        {
          "output_type": "stream",
          "name": "stdout",
          "text": [
            "Prompt tokens: 0\n",
            "Completion tokens: 0\n",
            "Total tokens used in this chain: 40\n",
            "Wall time for execution: 4.71 seconds\n"
          ]
        },
        {
          "output_type": "stream",
          "name": "stderr",
          "text": [
            "/usr/local/lib/python3.11/dist-packages/langsmith/client.py:253: LangSmithMissingAPIKeyWarning: API key must be provided when using hosted LangSmith API\n",
            "  warnings.warn(\n"
          ]
        },
        {
          "output_type": "stream",
          "name": "stdout",
          "text": [
            "Prompt tokens: 0\n",
            "Completion tokens: 0\n",
            "Total tokens used in this chain: 54\n",
            "Wall time for execution: 3.54 seconds\n"
          ]
        },
        {
          "output_type": "stream",
          "name": "stderr",
          "text": [
            "/usr/local/lib/python3.11/dist-packages/langsmith/client.py:253: LangSmithMissingAPIKeyWarning: API key must be provided when using hosted LangSmith API\n",
            "  warnings.warn(\n"
          ]
        },
        {
          "output_type": "stream",
          "name": "stdout",
          "text": [
            "Prompt tokens: 0\n",
            "Completion tokens: 0\n",
            "Total tokens used in this chain: 57\n",
            "Wall time for execution: 8.62 seconds\n",
            "Warning: Invalid planner evidence format: #E1: Google[\"King of Portuguese people in 1515\"]\n",
            "Warning: Invalid planner evidence format: #E2: Google[\"Tudor family tree\"]\n"
          ]
        },
        {
          "output_type": "stream",
          "name": "stderr",
          "text": [
            "/usr/local/lib/python3.11/dist-packages/langsmith/client.py:253: LangSmithMissingAPIKeyWarning: API key must be provided when using hosted LangSmith API\n",
            "  warnings.warn(\n"
          ]
        },
        {
          "output_type": "stream",
          "name": "stdout",
          "text": [
            "Prompt tokens: 0\n",
            "Completion tokens: 0\n",
            "Total tokens used in this chain: 190\n",
            "Wall time for execution: 12.13 seconds\n"
          ]
        },
        {
          "output_type": "stream",
          "name": "stderr",
          "text": [
            "/usr/local/lib/python3.11/dist-packages/langsmith/client.py:253: LangSmithMissingAPIKeyWarning: API key must be provided when using hosted LangSmith API\n",
            "  warnings.warn(\n"
          ]
        },
        {
          "output_type": "stream",
          "name": "stdout",
          "text": [
            "Prompt tokens: 0\n",
            "Completion tokens: 0\n",
            "Total tokens used in this chain: 124\n",
            "Wall time for execution: 5.36 seconds\n"
          ]
        },
        {
          "output_type": "stream",
          "name": "stderr",
          "text": [
            "/usr/local/lib/python3.11/dist-packages/langsmith/client.py:253: LangSmithMissingAPIKeyWarning: API key must be provided when using hosted LangSmith API\n",
            "  warnings.warn(\n"
          ]
        },
        {
          "output_type": "stream",
          "name": "stdout",
          "text": [
            "Prompt tokens: 0\n",
            "Completion tokens: 0\n",
            "Total tokens used in this chain: 99\n",
            "Wall time for execution: 2.01 seconds\n",
            "Warning: Invalid planner evidence format: #E1: Google[\"countries involved in American Civil War\"]\n",
            "Warning: Invalid plan generated. Skipping worker and passing the question to solver.\n"
          ]
        },
        {
          "output_type": "stream",
          "name": "stderr",
          "text": [
            "/usr/local/lib/python3.11/dist-packages/langsmith/client.py:253: LangSmithMissingAPIKeyWarning: API key must be provided when using hosted LangSmith API\n",
            "  warnings.warn(\n"
          ]
        },
        {
          "output_type": "stream",
          "name": "stdout",
          "text": [
            "Prompt tokens: 0\n",
            "Completion tokens: 0\n",
            "Total tokens used in this chain: 36\n",
            "Wall time for execution: 11.05 seconds\n",
            "Warning: Invalid planner evidence format: #E1: Google[“spinach comic power”]: Popeye is a fictional cartoon character who gains superhuman strength after eating spinach.\n",
            "Warning: Invalid plan generated. Skipping worker and passing the question to solver.\n"
          ]
        },
        {
          "output_type": "stream",
          "name": "stderr",
          "text": [
            "/usr/local/lib/python3.11/dist-packages/langsmith/client.py:253: LangSmithMissingAPIKeyWarning: API key must be provided when using hosted LangSmith API\n",
            "  warnings.warn(\n"
          ]
        },
        {
          "output_type": "stream",
          "name": "stdout",
          "text": [
            "Prompt tokens: 0\n",
            "Completion tokens: 0\n",
            "Total tokens used in this chain: 69\n",
            "Wall time for execution: 1.91 seconds\n",
            "Warning: Invalid planner evidence format: #E1: Google[\"Do suburbs encourage the use of cars?\"]\n",
            "Warning: Invalid plan generated. Skipping worker and passing the question to solver.\n"
          ]
        },
        {
          "output_type": "stream",
          "name": "stderr",
          "text": [
            "/usr/local/lib/python3.11/dist-packages/langsmith/client.py:253: LangSmithMissingAPIKeyWarning: API key must be provided when using hosted LangSmith API\n",
            "  warnings.warn(\n"
          ]
        },
        {
          "output_type": "stream",
          "name": "stdout",
          "text": [
            "Prompt tokens: 0\n",
            "Completion tokens: 0\n",
            "Total tokens used in this chain: 125\n",
            "Wall time for execution: 2.97 seconds\n",
            "Warning: Invalid planner evidence format: #E1: Google[\"Doctor Who's TARDIS machine capabilities\"]\n",
            "Warning: Invalid planner evidence format: #E2: Google[\"Marvel's Gateway\"]\n"
          ]
        },
        {
          "output_type": "stream",
          "name": "stderr",
          "text": [
            "/usr/local/lib/python3.11/dist-packages/langsmith/client.py:253: LangSmithMissingAPIKeyWarning: API key must be provided when using hosted LangSmith API\n",
            "  warnings.warn(\n"
          ]
        },
        {
          "output_type": "stream",
          "name": "stdout",
          "text": [
            "Prompt tokens: 0\n",
            "Completion tokens: 0\n",
            "Total tokens used in this chain: 108\n",
            "Wall time for execution: 6.64 seconds\n",
            "Results Structure: [{'Result': 'No good Google Search Result was found'}]\n",
            "Warning: No relevant information found in result: {'Result': 'No good Google Search Result was found'}\n",
            "Results Structure: [{'Result': 'No good Google Search Result was found'}]\n",
            "Warning: No relevant information found in result: {'Result': 'No good Google Search Result was found'}\n"
          ]
        },
        {
          "output_type": "stream",
          "name": "stderr",
          "text": [
            "/usr/local/lib/python3.11/dist-packages/langsmith/client.py:253: LangSmithMissingAPIKeyWarning: API key must be provided when using hosted LangSmith API\n",
            "  warnings.warn(\n"
          ]
        },
        {
          "output_type": "stream",
          "name": "stdout",
          "text": [
            "Prompt tokens: 0\n",
            "Completion tokens: 0\n",
            "Total tokens used in this chain: 80\n",
            "Wall time for execution: 5.35 seconds\n",
            "Warning: Invalid plan generated. Skipping worker and passing the question to solver.\n"
          ]
        },
        {
          "output_type": "stream",
          "name": "stderr",
          "text": [
            "/usr/local/lib/python3.11/dist-packages/langsmith/client.py:253: LangSmithMissingAPIKeyWarning: API key must be provided when using hosted LangSmith API\n",
            "  warnings.warn(\n"
          ]
        },
        {
          "output_type": "stream",
          "name": "stdout",
          "text": [
            "Prompt tokens: 0\n",
            "Completion tokens: 0\n",
            "Total tokens used in this chain: 98\n",
            "Wall time for execution: 1.93 seconds\n",
            "Warning: Invalid planner evidence format: #E1: Google[\"Do gorillas fight with panda bears?\"]\n",
            "Warning: Invalid plan generated. Skipping worker and passing the question to solver.\n"
          ]
        },
        {
          "output_type": "stream",
          "name": "stderr",
          "text": [
            "/usr/local/lib/python3.11/dist-packages/langsmith/client.py:253: LangSmithMissingAPIKeyWarning: API key must be provided when using hosted LangSmith API\n",
            "  warnings.warn(\n"
          ]
        },
        {
          "output_type": "stream",
          "name": "stdout",
          "text": [
            "Prompt tokens: 0\n",
            "Completion tokens: 0\n",
            "Total tokens used in this chain: 45\n",
            "Wall time for execution: 6.98 seconds\n"
          ]
        },
        {
          "output_type": "stream",
          "name": "stderr",
          "text": [
            "/usr/local/lib/python3.11/dist-packages/langsmith/client.py:253: LangSmithMissingAPIKeyWarning: API key must be provided when using hosted LangSmith API\n",
            "  warnings.warn(\n"
          ]
        },
        {
          "output_type": "stream",
          "name": "stdout",
          "text": [
            "Prompt tokens: 0\n",
            "Completion tokens: 0\n",
            "Total tokens used in this chain: 52\n",
            "Wall time for execution: 1.15 seconds\n"
          ]
        },
        {
          "output_type": "stream",
          "name": "stderr",
          "text": [
            "/usr/local/lib/python3.11/dist-packages/langsmith/client.py:253: LangSmithMissingAPIKeyWarning: API key must be provided when using hosted LangSmith API\n",
            "  warnings.warn(\n"
          ]
        },
        {
          "output_type": "stream",
          "name": "stdout",
          "text": [
            "Prompt tokens: 0\n",
            "Completion tokens: 0\n",
            "Total tokens used in this chain: 43\n",
            "Wall time for execution: 0.92 seconds\n",
            "Results Structure: [{'title': 'FLAN/flan/v2/cot_data/strategyqa_train.tsv at main · google-research ...', 'link': 'https://github.com/google-research/FLAN/blob/main/flan/v2/cot_data/strategyqa_train.tsv', 'snippet': 'Did Larry King sign the Magna Carta? no The Magna Carta was a charter of rights signed by King John in 1215. Larry King was born in 1933. Did Jackie Kennedy\\xa0...'}]\n",
            "Results Structure: [{'title': 'Magna Carta ‑ Summary, Facts & Rights | HISTORY', 'link': 'https://www.history.com/topics/european-history/magna-carta', 'snippet': 'Dec 17, 2009 ... Who Signed the Magna Carta and Why? What Did the Magna Carta Do? Where Is the Original Magna Carta? By 1215, thanks to years of unsuccessful\\xa0...'}]\n"
          ]
        },
        {
          "output_type": "stream",
          "name": "stderr",
          "text": [
            "/usr/local/lib/python3.11/dist-packages/langsmith/client.py:253: LangSmithMissingAPIKeyWarning: API key must be provided when using hosted LangSmith API\n",
            "  warnings.warn(\n"
          ]
        },
        {
          "output_type": "stream",
          "name": "stdout",
          "text": [
            "Prompt tokens: 0\n",
            "Completion tokens: 0\n",
            "Total tokens used in this chain: 98\n",
            "Wall time for execution: 5.73 seconds\n"
          ]
        },
        {
          "output_type": "stream",
          "name": "stderr",
          "text": [
            "/usr/local/lib/python3.11/dist-packages/langsmith/client.py:253: LangSmithMissingAPIKeyWarning: API key must be provided when using hosted LangSmith API\n",
            "  warnings.warn(\n"
          ]
        },
        {
          "output_type": "stream",
          "name": "stdout",
          "text": [
            "Prompt tokens: 0\n",
            "Completion tokens: 0\n",
            "Total tokens used in this chain: 52\n",
            "Wall time for execution: 20.95 seconds\n"
          ]
        },
        {
          "output_type": "stream",
          "name": "stderr",
          "text": [
            "/usr/local/lib/python3.11/dist-packages/langsmith/client.py:253: LangSmithMissingAPIKeyWarning: API key must be provided when using hosted LangSmith API\n",
            "  warnings.warn(\n"
          ]
        },
        {
          "output_type": "stream",
          "name": "stdout",
          "text": [
            "Prompt tokens: 0\n",
            "Completion tokens: 0\n",
            "Total tokens used in this chain: 53\n",
            "Wall time for execution: 0.86 seconds\n",
            "Warning: Invalid planner evidence format: #E1: \n"
          ]
        },
        {
          "output_type": "stream",
          "name": "stderr",
          "text": [
            "/usr/local/lib/python3.11/dist-packages/langsmith/client.py:253: LangSmithMissingAPIKeyWarning: API key must be provided when using hosted LangSmith API\n",
            "  warnings.warn(\n"
          ]
        },
        {
          "output_type": "stream",
          "name": "stdout",
          "text": [
            "Prompt tokens: 0\n",
            "Completion tokens: 0\n",
            "Total tokens used in this chain: 55\n",
            "Wall time for execution: 5.71 seconds\n",
            "Warning: Invalid planner evidence format: #E1: Canada is a constitutional monarchy with Queen Elizabeth II as its head of state.\n",
            "Warning: Invalid planner evidence format: #E2: Canada is a member of the Commonwealth of Nations, which is a voluntary association of 54 independent states that share a common history and values. The head of the Commonwealth is the British monarch.\n",
            "Warning: Invalid plan generated. Skipping worker and passing the question to solver.\n"
          ]
        },
        {
          "output_type": "stream",
          "name": "stderr",
          "text": [
            "/usr/local/lib/python3.11/dist-packages/langsmith/client.py:253: LangSmithMissingAPIKeyWarning: API key must be provided when using hosted LangSmith API\n",
            "  warnings.warn(\n"
          ]
        },
        {
          "output_type": "stream",
          "name": "stdout",
          "text": [
            "Prompt tokens: 0\n",
            "Completion tokens: 0\n",
            "Total tokens used in this chain: 58\n",
            "Wall time for execution: 14.99 seconds\n",
            "Warning: Invalid planner evidence format: #E1: Results from Google search on Thomas Greenhill's parents\n",
            "Warning: Invalid planner evidence format: #E2: Definition of monogamy from Google search\n"
          ]
        },
        {
          "output_type": "stream",
          "name": "stderr",
          "text": [
            "/usr/local/lib/python3.11/dist-packages/langsmith/client.py:253: LangSmithMissingAPIKeyWarning: API key must be provided when using hosted LangSmith API\n",
            "  warnings.warn(\n"
          ]
        },
        {
          "output_type": "stream",
          "name": "stdout",
          "text": [
            "Prompt tokens: 0\n",
            "Completion tokens: 0\n",
            "Total tokens used in this chain: 45\n",
            "Wall time for execution: 23.24 seconds\n",
            "Warning: Invalid plan generated. Skipping worker and passing the question to solver.\n"
          ]
        },
        {
          "output_type": "stream",
          "name": "stderr",
          "text": [
            "/usr/local/lib/python3.11/dist-packages/langsmith/client.py:253: LangSmithMissingAPIKeyWarning: API key must be provided when using hosted LangSmith API\n",
            "  warnings.warn(\n"
          ]
        },
        {
          "output_type": "stream",
          "name": "stdout",
          "text": [
            "Prompt tokens: 0\n",
            "Completion tokens: 0\n",
            "Total tokens used in this chain: 156\n",
            "Wall time for execution: 3.31 seconds\n",
            "Warning: Invalid plan generated. Skipping worker and passing the question to solver.\n"
          ]
        },
        {
          "output_type": "stream",
          "name": "stderr",
          "text": [
            "/usr/local/lib/python3.11/dist-packages/langsmith/client.py:253: LangSmithMissingAPIKeyWarning: API key must be provided when using hosted LangSmith API\n",
            "  warnings.warn(\n"
          ]
        },
        {
          "output_type": "stream",
          "name": "stdout",
          "text": [
            "Prompt tokens: 0\n",
            "Completion tokens: 0\n",
            "Total tokens used in this chain: 81\n",
            "Wall time for execution: 9.15 seconds\n"
          ]
        },
        {
          "output_type": "stream",
          "name": "stderr",
          "text": [
            "/usr/local/lib/python3.11/dist-packages/langsmith/client.py:253: LangSmithMissingAPIKeyWarning: API key must be provided when using hosted LangSmith API\n",
            "  warnings.warn(\n"
          ]
        },
        {
          "output_type": "stream",
          "name": "stdout",
          "text": [
            "Prompt tokens: 0\n",
            "Completion tokens: 0\n",
            "Total tokens used in this chain: 110\n",
            "Wall time for execution: 3.89 seconds\n"
          ]
        },
        {
          "output_type": "stream",
          "name": "stderr",
          "text": [
            "/usr/local/lib/python3.11/dist-packages/langsmith/client.py:253: LangSmithMissingAPIKeyWarning: API key must be provided when using hosted LangSmith API\n",
            "  warnings.warn(\n"
          ]
        },
        {
          "output_type": "stream",
          "name": "stdout",
          "text": [
            "Prompt tokens: 0\n",
            "Completion tokens: 0\n",
            "Total tokens used in this chain: 72\n",
            "Wall time for execution: 11.56 seconds\n",
            "Warning: Invalid planner evidence format: #E1: Retrieved articles and news pieces discussing the hostility between the Muslim world and Israel.\n",
            "Warning: Invalid planner evidence format: #E2: Retrieved historical information about the relationship between the Muslim world and Israel, including key events and turning points.\n"
          ]
        },
        {
          "output_type": "stream",
          "name": "stderr",
          "text": [
            "/usr/local/lib/python3.11/dist-packages/langsmith/client.py:253: LangSmithMissingAPIKeyWarning: API key must be provided when using hosted LangSmith API\n",
            "  warnings.warn(\n"
          ]
        },
        {
          "output_type": "stream",
          "name": "stdout",
          "text": [
            "Prompt tokens: 0\n",
            "Completion tokens: 0\n",
            "Total tokens used in this chain: 146\n",
            "Wall time for execution: 5.99 seconds\n",
            "Warning: Invalid plan generated. Skipping worker and passing the question to solver.\n"
          ]
        },
        {
          "output_type": "stream",
          "name": "stderr",
          "text": [
            "/usr/local/lib/python3.11/dist-packages/langsmith/client.py:253: LangSmithMissingAPIKeyWarning: API key must be provided when using hosted LangSmith API\n",
            "  warnings.warn(\n"
          ]
        },
        {
          "output_type": "stream",
          "name": "stdout",
          "text": [
            "Prompt tokens: 0\n",
            "Completion tokens: 0\n",
            "Total tokens used in this chain: 50\n",
            "Wall time for execution: 6.97 seconds\n",
            "Warning: Invalid plan generated. Skipping worker and passing the question to solver.\n"
          ]
        },
        {
          "output_type": "stream",
          "name": "stderr",
          "text": [
            "/usr/local/lib/python3.11/dist-packages/langsmith/client.py:253: LangSmithMissingAPIKeyWarning: API key must be provided when using hosted LangSmith API\n",
            "  warnings.warn(\n"
          ]
        },
        {
          "output_type": "stream",
          "name": "stdout",
          "text": [
            "Prompt tokens: 0\n",
            "Completion tokens: 0\n",
            "Total tokens used in this chain: 119\n",
            "Wall time for execution: 2.20 seconds\n",
            "Warning: Invalid planner evidence format: #E1: \"Mozambique Drill is a two-shot technique that is designed to be used at close range. It is relatively easy to learn and execute, and it is often taught to new shooters as a basic self-defense technique.\"\n",
            "Warning: Invalid planner evidence format: #E2: \"The Mozambique Drill is a two-shot technique that is often taught to United States Army Rangers as a basic self-defense technique. It is designed to be used at close range and is relatively easy to learn and execute.\"\n"
          ]
        },
        {
          "output_type": "stream",
          "name": "stderr",
          "text": [
            "/usr/local/lib/python3.11/dist-packages/langsmith/client.py:253: LangSmithMissingAPIKeyWarning: API key must be provided when using hosted LangSmith API\n",
            "  warnings.warn(\n"
          ]
        },
        {
          "output_type": "stream",
          "name": "stdout",
          "text": [
            "Prompt tokens: 0\n",
            "Completion tokens: 0\n",
            "Total tokens used in this chain: 121\n",
            "Wall time for execution: 4.98 seconds\n",
            "Warning: Invalid plan generated. Skipping worker and passing the question to solver.\n"
          ]
        },
        {
          "output_type": "stream",
          "name": "stderr",
          "text": [
            "/usr/local/lib/python3.11/dist-packages/langsmith/client.py:253: LangSmithMissingAPIKeyWarning: API key must be provided when using hosted LangSmith API\n",
            "  warnings.warn(\n"
          ]
        },
        {
          "output_type": "stream",
          "name": "stdout",
          "text": [
            "Prompt tokens: 0\n",
            "Completion tokens: 0\n",
            "Total tokens used in this chain: 48\n",
            "Wall time for execution: 0.55 seconds\n"
          ]
        },
        {
          "output_type": "stream",
          "name": "stderr",
          "text": [
            "/usr/local/lib/python3.11/dist-packages/langsmith/client.py:253: LangSmithMissingAPIKeyWarning: API key must be provided when using hosted LangSmith API\n",
            "  warnings.warn(\n"
          ]
        },
        {
          "output_type": "stream",
          "name": "stdout",
          "text": [
            "Prompt tokens: 0\n",
            "Completion tokens: 0\n",
            "Total tokens used in this chain: 41\n",
            "Wall time for execution: 4.55 seconds\n",
            "Results Structure: [{'Result': 'No good Google Search Result was found'}]\n",
            "Warning: No relevant information found in result: {'Result': 'No good Google Search Result was found'}\n"
          ]
        },
        {
          "output_type": "stream",
          "name": "stderr",
          "text": [
            "/usr/local/lib/python3.11/dist-packages/langsmith/client.py:253: LangSmithMissingAPIKeyWarning: API key must be provided when using hosted LangSmith API\n",
            "  warnings.warn(\n"
          ]
        },
        {
          "output_type": "stream",
          "name": "stdout",
          "text": [
            "Prompt tokens: 0\n",
            "Completion tokens: 0\n",
            "Total tokens used in this chain: 38\n",
            "Wall time for execution: 25.57 seconds\n"
          ]
        },
        {
          "output_type": "stream",
          "name": "stderr",
          "text": [
            "/usr/local/lib/python3.11/dist-packages/langsmith/client.py:253: LangSmithMissingAPIKeyWarning: API key must be provided when using hosted LangSmith API\n",
            "  warnings.warn(\n"
          ]
        },
        {
          "output_type": "stream",
          "name": "stdout",
          "text": [
            "Prompt tokens: 0\n",
            "Completion tokens: 0\n",
            "Total tokens used in this chain: 68\n",
            "Wall time for execution: 3.24 seconds\n",
            "Warning: Invalid planner evidence format: #E1: \"New York Public Library Alpo products\"\n",
            "Warning: Invalid planner evidence format: #E2: N/A\n",
            "Warning: Invalid plan generated. Skipping worker and passing the question to solver.\n"
          ]
        },
        {
          "output_type": "stream",
          "name": "stderr",
          "text": [
            "/usr/local/lib/python3.11/dist-packages/langsmith/client.py:253: LangSmithMissingAPIKeyWarning: API key must be provided when using hosted LangSmith API\n",
            "  warnings.warn(\n"
          ]
        },
        {
          "output_type": "stream",
          "name": "stdout",
          "text": [
            "Prompt tokens: 0\n",
            "Completion tokens: 0\n",
            "Total tokens used in this chain: 38\n",
            "Wall time for execution: 8.11 seconds\n",
            "Results Structure: [{'Result': 'No good Google Search Result was found'}]\n",
            "Warning: No relevant information found in result: {'Result': 'No good Google Search Result was found'}\n",
            "Results Structure: [{'Result': 'No good Google Search Result was found'}]\n",
            "Warning: No relevant information found in result: {'Result': 'No good Google Search Result was found'}\n"
          ]
        },
        {
          "output_type": "stream",
          "name": "stderr",
          "text": [
            "/usr/local/lib/python3.11/dist-packages/langsmith/client.py:253: LangSmithMissingAPIKeyWarning: API key must be provided when using hosted LangSmith API\n",
            "  warnings.warn(\n"
          ]
        },
        {
          "output_type": "stream",
          "name": "stdout",
          "text": [
            "Prompt tokens: 0\n",
            "Completion tokens: 0\n",
            "Total tokens used in this chain: 93\n",
            "Wall time for execution: 5.53 seconds\n",
            "Warning: Invalid plan generated. Skipping worker and passing the question to solver.\n"
          ]
        },
        {
          "output_type": "stream",
          "name": "stderr",
          "text": [
            "/usr/local/lib/python3.11/dist-packages/langsmith/client.py:253: LangSmithMissingAPIKeyWarning: API key must be provided when using hosted LangSmith API\n",
            "  warnings.warn(\n"
          ]
        },
        {
          "output_type": "stream",
          "name": "stdout",
          "text": [
            "Prompt tokens: 0\n",
            "Completion tokens: 0\n",
            "Total tokens used in this chain: 60\n",
            "Wall time for execution: 2.68 seconds\n"
          ]
        },
        {
          "output_type": "stream",
          "name": "stderr",
          "text": [
            "/usr/local/lib/python3.11/dist-packages/langsmith/client.py:253: LangSmithMissingAPIKeyWarning: API key must be provided when using hosted LangSmith API\n",
            "  warnings.warn(\n"
          ]
        },
        {
          "output_type": "stream",
          "name": "stdout",
          "text": [
            "Prompt tokens: 0\n",
            "Completion tokens: 0\n",
            "Total tokens used in this chain: 98\n",
            "Wall time for execution: 2.72 seconds\n",
            "Results Structure: [{'Result': 'No good Google Search Result was found'}]\n",
            "Warning: No relevant information found in result: {'Result': 'No good Google Search Result was found'}\n",
            "Results Structure: [{'Result': 'No good Google Search Result was found'}]\n",
            "Warning: No relevant information found in result: {'Result': 'No good Google Search Result was found'}\n"
          ]
        },
        {
          "output_type": "stream",
          "name": "stderr",
          "text": [
            "/usr/local/lib/python3.11/dist-packages/langsmith/client.py:253: LangSmithMissingAPIKeyWarning: API key must be provided when using hosted LangSmith API\n",
            "  warnings.warn(\n"
          ]
        },
        {
          "output_type": "stream",
          "name": "stdout",
          "text": [
            "Prompt tokens: 0\n",
            "Completion tokens: 0\n",
            "Total tokens used in this chain: 64\n",
            "Wall time for execution: 11.00 seconds\n",
            "Results Structure: [{'Result': 'No good Google Search Result was found'}]\n",
            "Warning: No relevant information found in result: {'Result': 'No good Google Search Result was found'}\n",
            "Results Structure: [{'Result': 'No good Google Search Result was found'}]\n",
            "Warning: No relevant information found in result: {'Result': 'No good Google Search Result was found'}\n",
            "Results Structure: [{'Result': 'No good Google Search Result was found'}]\n",
            "Warning: No relevant information found in result: {'Result': 'No good Google Search Result was found'}\n"
          ]
        },
        {
          "output_type": "stream",
          "name": "stderr",
          "text": [
            "/usr/local/lib/python3.11/dist-packages/langsmith/client.py:253: LangSmithMissingAPIKeyWarning: API key must be provided when using hosted LangSmith API\n",
            "  warnings.warn(\n"
          ]
        },
        {
          "output_type": "stream",
          "name": "stdout",
          "text": [
            "Prompt tokens: 0\n",
            "Completion tokens: 0\n",
            "Total tokens used in this chain: 102\n",
            "Wall time for execution: 1.95 seconds\n",
            "Warning: Invalid plan generated. Skipping worker and passing the question to solver.\n"
          ]
        },
        {
          "output_type": "stream",
          "name": "stderr",
          "text": [
            "/usr/local/lib/python3.11/dist-packages/langsmith/client.py:253: LangSmithMissingAPIKeyWarning: API key must be provided when using hosted LangSmith API\n",
            "  warnings.warn(\n"
          ]
        }
      ]
    },
    {
      "cell_type": "markdown",
      "source": [
        "# TODO:\n",
        "\n",
        "[x] add baseline\n",
        "\n",
        "[] native google search retrieval\n",
        "\n",
        "[x] callback/count tokens for react\n",
        "\n",
        "[x] ReWOO\n",
        "\n",
        "[x] add walltime to all other functions -> # token, time, accuracy\n",
        "\n",
        "[] add everything to a class, run queries at concurrently\n",
        "\n",
        "[] deepseek"
      ],
      "metadata": {
        "id": "6AJANtdgltx6"
      }
    },
    {
      "cell_type": "code",
      "source": [],
      "metadata": {
        "id": "fNR-ttnzyPeW"
      },
      "execution_count": null,
      "outputs": []
    }
  ]
}